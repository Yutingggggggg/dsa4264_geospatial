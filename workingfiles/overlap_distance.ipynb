{
 "cells": [
  {
   "cell_type": "markdown",
   "metadata": {},
   "source": [
    "# Data"
   ]
  },
  {
   "cell_type": "code",
   "execution_count": null,
   "metadata": {},
   "outputs": [],
   "source": [
    "%run nearest_mrt_station_to_bus_stops.ipynb"
   ]
  },
  {
   "cell_type": "markdown",
   "metadata": {},
   "source": [
    "## Bus Routes Data"
   ]
  },
  {
   "cell_type": "code",
   "execution_count": null,
   "metadata": {},
   "outputs": [],
   "source": [
    "from shapely.geometry import LineString\n",
    "\n",
    "# combine bus routes\n",
    "bus_routes_combined = bus_routes_gdf_3857.groupby(['ServiceNo', 'Direction']).apply(lambda x: LineString(x.geometry.tolist())).reset_index()\n",
    "bus_routes_combined.columns = ['ServiceNo', 'Direction', 'geometry']\n",
    "bus_routes_combined"
   ]
  },
  {
   "cell_type": "markdown",
   "metadata": {},
   "source": [
    "## MRT Stations Data"
   ]
  },
  {
   "cell_type": "code",
   "execution_count": null,
   "metadata": {},
   "outputs": [],
   "source": [
    "# mrt stations geodataframe\n",
    "import os\n",
    "os.environ['OGR_GEOMETRY_ACCEPT_UNCLOSED_RING'] = 'NO'\n",
    "\n",
    "mrt_stations_gdf = geopandas.read_file('./TrainStation_Jul2024/RapidTransitSystemStation.shp')\n",
    "mrt_stations_gdf_3857 = mrt_stations_gdf.to_crs(3857)\n",
    "mrt_stations_gdf_3857"
   ]
  },
  {
   "cell_type": "code",
   "execution_count": null,
   "metadata": {},
   "outputs": [],
   "source": [
    "mrt_stations_gdf2 = geopandas.read_file('./mrt_stations/mrt_stations.shp')\n",
    "\n",
    "mrt_stations_gdf2[\"lat_lng\"] = geopandas.points_from_xy(mrt_stations_gdf2[\"LATITUDE\"], mrt_stations_gdf2[\"LONGITUDE\"])\n",
    "mrt_stations_gdf2[\"line\"] = mrt_stations_gdf2[\"CODE\"].str.slice(0, 2) \n",
    "\n",
    "mrt_lines_code = [\"NS\", \"EW\", \"CC\", \"NE\", \"TE\", \"DT\"]\n",
    "\n",
    "mrt_gdf_wo_lrt = mrt_stations_gdf2[mrt_stations_gdf2[\"line\"].isin(mrt_lines_code)].reset_index()\n",
    "mrt_gdf_wo_lrt = mrt_gdf_wo_lrt.drop(\"index\", axis = 1)\n",
    "\n",
    "mrt_gdf_wo_lrt[\"STN_NAM_DE\"] = mrt_gdf_wo_lrt[\"BUILDING\"].str.split('(').str[0].str.strip()\n",
    "mrt_stations_3857_2 = mrt_gdf_wo_lrt.merge(mrt_stations_gdf_3857, how = \"left\", on = \"STN_NAM_DE\")\n",
    "\n",
    "mrt_stations_3857_2"
   ]
  },
  {
   "cell_type": "markdown",
   "metadata": {},
   "source": [
    "### Thomson-East Coast Line"
   ]
  },
  {
   "cell_type": "code",
   "execution_count": null,
   "metadata": {},
   "outputs": [],
   "source": [
    "#brown_line = ['WOODLANDS NORTH MRT STATION',\n",
    "            #   'WOODLANDS MRT STATION',\n",
    "            #   'WOODLANDS SOUTH MRT STATION',\n",
    "            #   'SPRINGLEAF MRT STATION',\n",
    "            #   'LENTOR MRT STATION',\n",
    "            #   'MAYFLOWER MRT STATION',\n",
    "            #   'BRIGHT HILL MRT STATION',\n",
    "            #   'UPPER THOMSON MRT STATION',\n",
    "            #   'CALDECOTT MRT STATION',\n",
    "            #   'STEVENS MRT STATION',\n",
    "            #   'NAPIER MRT STATION',\n",
    "            #   'ORCHARD BOULEVARD MRT STATION',\n",
    "            #   'ORCHARD MRT STATION',\n",
    "            #   'GREAT WORLD MRT STATION',\n",
    "            #   'HAVELOCK MRT STATION',\n",
    "            #   'OUTRAM PARK MRT STATION',\n",
    "            #   'MAXWELL MRT STATION',\n",
    "            #   'SHENTON WAY MRT STATION',\n",
    "            #   'MARINA BAY MRT STATION',\n",
    "            #   'GARDENS BY THE BAY MRT STATION',\n",
    "            #   'TANJONG RHU MRT STATION',\n",
    "            #   'KATONG PARK MRT STATION',\n",
    "            #   'TANJONG KATONG MRT STATION',\n",
    "            #   'MARINE PARADE MRT STATION',\n",
    "            #   'MARINE TERRACE MRT STATION',\n",
    "            #   'SIGLAP MRT STATION',\n",
    "            #   'BAYSHORE MRT STATION',\n",
    "            #   'BEDOK SOUTH MRT STATION',\n",
    "            #   'SUNGEI BEDOK MRT STATION']\n",
    "\n",
    "# # filter brown line stations from mrt stations geodataframe\n",
    "# brown_line_stations_gdf = mrt_stations_gdf_3857[mrt_stations_gdf_3857['STN_NAM_DE'].isin(brown_line)]\n",
    "\n",
    "# # order brown line stations based on list\n",
    "# brown_line_stations_gdf['STN_NAM_DE'] = pd.Categorical(brown_line_stations_gdf['STN_NAM_DE'],\n",
    "#                                                        categories = brown_line,\n",
    "#                                                        ordered = True)\n",
    "# brown_line_stations_gdf = brown_line_stations_gdf.sort_values('STN_NAM_DE')\n",
    "# brown_line_stations_gdf\n",
    "\n",
    "TEL = mrt_stations_3857_2[mrt_stations_3857_2[\"line\"] == \"TE\"][\"STATION_NA\"].tolist()\n",
    "\n",
    "# filter stations from mrt stations geodataframe\n",
    "TEL_stations_gdf = mrt_stations_3857_2[mrt_stations_3857_2['line'] == \"TE\"]\n",
    "\n",
    "TEL_stations_gdf[\"order\"] = pd.to_numeric(TEL_stations_gdf[\"CODE\"].str.slice(2, None))\n",
    "\n",
    "# order stations based on list\n",
    "TEL_stations_gdf = TEL_stations_gdf.sort_values('order')\n",
    "TEL_stations_gdf\n",
    "\n",
    "\n"
   ]
  },
  {
   "cell_type": "markdown",
   "metadata": {},
   "source": [
    "#### Route Visualisation"
   ]
  },
  {
   "cell_type": "code",
   "execution_count": null,
   "metadata": {},
   "outputs": [],
   "source": [
    "import folium\n",
    "import geopandas\n",
    "from shapely.geometry import mapping\n",
    "from shapely.geometry import LineString\n",
    "\n",
    "# ordered list of station coordinates\n",
    "TEL_stations_gdf['coordinates'] = TEL_stations_gdf['geometry'].centroid\n",
    "TEL_stations_gdf\n",
    "\n",
    "# create a linestring for the  route\n",
    "TEL_route = LineString(TEL_stations_gdf['coordinates'])\n",
    "\n",
    "# convert from LineString to geodataframe\n",
    "TEL_route_gdf = geopandas.GeoDataFrame(geometry = [TEL_route], crs = \"EPSG:3857\")\n",
    "TEL_route_gdf_4326 = TEL_route_gdf.to_crs(4326)\n",
    "\n",
    "# create base map\n",
    "TEL_map = folium.Map(location = (1.359394, 103.814301), zoom_start = 12)\n",
    "\n",
    "# add TEL route layer\n",
    "folium.GeoJson(\n",
    "    data = mapping(TEL_route_gdf_4326),\n",
    "    name = 'TEL',\n",
    "    style_function = lambda x: {\n",
    "        'color': 'brown',\n",
    "        'weight': 4\n",
    "    }\n",
    ").add_to(TEL_map)\n",
    "\n",
    "TEL_map\n"
   ]
  },
  {
   "cell_type": "code",
   "execution_count": null,
   "metadata": {},
   "outputs": [],
   "source": [
    "# calculate the overlapping distance of each bus route and the TEL\n",
    "buffer_distance = 150\n",
    "buffered_TEL = TEL_route.buffer(buffer_distance)\n",
    "\n",
    "overlap_distance_output_TEL = []\n",
    "\n",
    "for i, route in tqdm(bus_routes_combined.iterrows()):\n",
    "    overlap = buffered_TEL.intersection(route.geometry)\n",
    "    if overlap.is_empty:\n",
    "        overlap_distance_output_TEL.append({\n",
    "            'Bus Service': route['ServiceNo'],\n",
    "            'Direction': route['Direction'],\n",
    "            'Overlap Distance': 0,\n",
    "            'MRT line': 'Thomson-East Coast Line',\n",
    "            'Intersection': overlap\n",
    "            })\n",
    "    else:\n",
    "        overlap_distance_output_TEL.append({\n",
    "            'Bus Service': route['ServiceNo'],\n",
    "            'Direction': route['Direction'],\n",
    "            'Overlap Distance': overlap.length,\n",
    "            'MRT line': 'Thomson-East Coast Line',\n",
    "            'Intersection': overlap\n",
    "            })\n",
    "\n",
    "overlap_distance_TEL = geopandas.GeoDataFrame(overlap_distance_output_TEL)\n",
    "\n",
    "# filter bus routes with overlap\n",
    "bus_routes_overlap_TEL = overlap_distance_TEL[overlap_distance_TEL['Overlap Distance'] > 0].sort_values(by = 'Overlap Distance', ascending = False)\n",
    "bus_routes_overlap_TEL"
   ]
  },
  {
   "cell_type": "code",
   "execution_count": null,
   "metadata": {},
   "outputs": [],
   "source": [
    "bus_routes_overlap = bus_routes_overlap_TEL\n",
    "bus_routes_overlap"
   ]
  },
  {
   "cell_type": "markdown",
   "metadata": {},
   "source": [
    "### Downtown Line "
   ]
  },
  {
   "cell_type": "code",
   "execution_count": null,
   "metadata": {},
   "outputs": [],
   "source": [
    "# blue_line = ['SUNGEI KADUT MRT STATION',\n",
    "#              'BUKIT PANJANG MRT STATION',\n",
    "#              'CASHEW MRT STATION',\n",
    "#              'HILLVIEW MRT STATION',\n",
    "#              'HUME MRT STATION',\n",
    "#              'BEAUTY WORLD MRT STATION',\n",
    "#              'KING ALBERT PARK MRT STATION',\n",
    "#              'SIXTH AVENUE MRT STATION',\n",
    "#              'TAN KAH KEE MRT STATION',\n",
    "#              'BOTANIC GARDENS MRT STATION',\n",
    "#              'STEVENS MRT STATION',\n",
    "#              'NEWTON MRT STATION',\n",
    "#              'LITTLE INDIA MRT STATION',\n",
    "#              'ROCHOR MRT STATION',\n",
    "#              'BUGIS MRT STATION',\n",
    "#              'PROMENADE MRT STATION',\n",
    "#              'BAYFRONT MRT STATION',\n",
    "#              'DOWNTOWN MRT STATION',\n",
    "#              'TELOK AYER MRT STATION',\n",
    "#              'CHINATOWN MRT STATION',\n",
    "#              'FORT CANNING MRT STATION',\n",
    "#              'BENCOOLEN MRT STATION',\n",
    "#              'JALAN BESAR MRT STATION',\n",
    "#              'BENDEMEER MRT STATION',\n",
    "#              'GEYLANG BAHRU MRT STATION',\n",
    "#              'MATTAR MRT STATION',\n",
    "#              'MACPHERSON MRT STATION',\n",
    "#              'UBI MRT STATION',\n",
    "#              'KAKI BUKIT MRT STATION',\n",
    "#              'BEDOK NORTH MRT STATION',\n",
    "#              'BEDOK RESERVOIR MRT STATION',\n",
    "#              'TAMPINES WEST MRT STATION',\n",
    "#              'TAMPINES MRT STATION',\n",
    "#              'TAMPINES EAST MRT STATION',\n",
    "#              'UPPER CHANGI MRT STATION',\n",
    "#              'EXPO MRT STATION']\n",
    "\n",
    "# # filter blue line stations from mrt stations geodataframe\n",
    "# blue_line_stations_gdf = mrt_stations_gdf_3857[mrt_stations_gdf_3857['STN_NAM_DE'].isin(blue_line)]\n",
    "\n",
    "# # order blue line stations based on list\n",
    "# blue_line_stations_gdf['STN_NAM_DE'] = pd.Categorical(blue_line_stations_gdf['STN_NAM_DE'],\n",
    "#                                                        categories = blue_line,\n",
    "#                                                        ordered = True)\n",
    "# blue_line_stations_gdf = blue_line_stations_gdf.sort_values('STN_NAM_DE')\n",
    "# blue_line_stations_gdf\n",
    "DTL = mrt_stations_3857_2[mrt_stations_3857_2[\"line\"] == \"DT\"][\"STATION_NA\"].tolist()\n",
    "\n",
    "# filter stations from mrt stations geodataframe\n",
    "DTL_stations_gdf = mrt_stations_3857_2[mrt_stations_3857_2['line'] == \"DT\"]\n",
    "\n",
    "DTL_stations_gdf[\"order\"] = pd.to_numeric(DTL_stations_gdf[\"CODE\"].str.slice(2, None))\n",
    "\n",
    "# order stations based on list\n",
    "DTL_stations_gdf = DTL_stations_gdf.sort_values('order')\n",
    "DTL_stations_gdf\n"
   ]
  },
  {
   "cell_type": "markdown",
   "metadata": {},
   "source": [
    "#### Route Visualisation"
   ]
  },
  {
   "cell_type": "code",
   "execution_count": null,
   "metadata": {},
   "outputs": [],
   "source": [
    "import folium\n",
    "import geopandas\n",
    "from shapely.geometry import mapping\n",
    "from shapely.geometry import LineString\n",
    "# ordered list of  station coordinates\n",
    "DTL_stations_gdf['coordinates'] = DTL_stations_gdf['geometry'].centroid\n",
    "DTL_stations_gdf\n",
    "\n",
    "# create a linestring for the route\n",
    "DTL_route = LineString(DTL_stations_gdf['coordinates'])\n",
    "\n",
    "# convert from LineString to geodataframe\n",
    "DTL_route_gdf = geopandas.GeoDataFrame(geometry = [DTL_route], crs = \"EPSG:3857\")\n",
    "DTL_route_gdf_4326 = DTL_route_gdf.to_crs(4326)\n",
    "\n",
    "# create base map\n",
    "DTL_map = folium.Map(location = (1.359394, 103.814301), zoom_start = 12)\n",
    "\n",
    "# add TEL route layer\n",
    "folium.GeoJson(\n",
    "    data = mapping(DTL_route_gdf_4326),\n",
    "    name = 'DTL',\n",
    "    style_function = lambda x: {\n",
    "        'color': 'blue',\n",
    "        'weight': 4\n",
    "    }\n",
    ").add_to(DTL_map)\n",
    "\n",
    "DTL_map\n"
   ]
  },
  {
   "cell_type": "code",
   "execution_count": null,
   "metadata": {},
   "outputs": [],
   "source": [
    "# calculate the overlapping distance of each bus route and the blue line\n",
    "buffer_distance = 150\n",
    "buffered_DTL = DTL_route.buffer(buffer_distance)\n",
    "\n",
    "overlap_distance_output_DTL = []\n",
    "\n",
    "for i, route in tqdm(bus_routes_combined.iterrows()):\n",
    "    overlap = buffered_DTL.intersection(route.geometry)\n",
    "    if overlap.is_empty:\n",
    "        overlap_distance_output_DTL.append({\n",
    "            'Bus Service': route['ServiceNo'],\n",
    "            'Direction': route['Direction'],\n",
    "            'Overlap Distance': 0,\n",
    "            'MRT line': 'Downtown Line',\n",
    "            'Intersection': overlap\n",
    "            })\n",
    "    else:\n",
    "        overlap_distance_output_DTL.append({\n",
    "            'Bus Service': route['ServiceNo'],\n",
    "            'Direction': route['Direction'],\n",
    "            'Overlap Distance': overlap.length,\n",
    "            'MRT line': 'Downtown Line',\n",
    "            'Intersection': overlap\n",
    "            })\n",
    "\n",
    "overlap_distance_DTL = pd.DataFrame(overlap_distance_output_DTL)\n",
    "overlap_distance_DTL\n",
    "\n",
    "# filter bus routes with overlap with DTL\n",
    "bus_routes_overlap_DTL = overlap_distance_DTL[overlap_distance_DTL['Overlap Distance'] > 0].sort_values(by = 'Overlap Distance', ascending = False)\n",
    "bus_routes_overlap_DTL"
   ]
  },
  {
   "cell_type": "code",
   "execution_count": null,
   "metadata": {},
   "outputs": [],
   "source": [
    "bus_routes_overlap = pd.concat([bus_routes_overlap, bus_routes_overlap_DTL, axis = 0)\n",
    "bus_routes_overlap"
   ]
  },
  {
   "cell_type": "markdown",
   "metadata": {},
   "source": [
    "### North-East Line "
   ]
  },
  {
   "cell_type": "code",
   "execution_count": null,
   "metadata": {},
   "outputs": [],
   "source": [
    "# purple_line = [\n",
    "#     'HARBOURFRONT MRT STATION',\n",
    "#     'OUTRAM PARK MRT STATION',\n",
    "#     'CHINATOWN MRT STATION',\n",
    "#     'CLARKE QUAY MRT STATION',\n",
    "#     'DHOBY GHAUT MRT STATION',\n",
    "#     'LITTLE INDIA MRT STATION',\n",
    "#     'FARRER PARK MRT STATION',\n",
    "#     'BOON KENG MRT STATION',\n",
    "#     'POTONG PASIR MRT STATION',\n",
    "#     'WOODLEIGH MRT STATION',\n",
    "#     'SERANGOON MRT STATION',\n",
    "#     'KOVAN MRT STATION',\n",
    "#     'HOUGANG MRT STATION',\n",
    "#     'BUANGKOK MRT STATION',\n",
    "#     'SENGKANG MRT STATION',\n",
    "#     'PUNGGOL MRT STATION'\n",
    "# ]\n",
    "\n",
    "\n",
    "# # filter purple line stations from mrt stations geodataframe\n",
    "# purple_line_stations_gdf = mrt_stations_gdf_3857[mrt_stations_gdf_3857['STN_NAM_DE'].isin(purple_line)]\n",
    "\n",
    "# # order purple line stations based on list\n",
    "# purple_line_stations_gdf['STN_NAM_DE'] = pd.Categorical(purple_line_stations_gdf['STN_NAM_DE'],\n",
    "#                                                        categories = purple_line,\n",
    "#                                                        ordered = True)\n",
    "# purple_line_stations_gdf = purple_line_stations_gdf.sort_values('STN_NAM_DE')\n",
    "# purple_line_stations_gdf\n",
    "\n",
    "NEL = mrt_stations_3857_2[mrt_stations_3857_2[\"line\"] == \"NE\"][\"STATION_NA\"].tolist()\n",
    "\n",
    "# filter stations from mrt stations geodataframe\n",
    "NEL_stations_gdf = mrt_stations_3857_2[mrt_stations_3857_2['line'] == \"NE\"]\n",
    "\n",
    "NEL_stations_gdf[\"order\"] = pd.to_numeric(NEL_stations_gdf[\"CODE\"].str.slice(2, None))\n",
    "\n",
    "# order stations based on list\n",
    "NEL_stations_gdf = NEL_stations_gdf.sort_values('order')\n",
    "NEL_stations_gdf"
   ]
  },
  {
   "cell_type": "markdown",
   "metadata": {},
   "source": [
    "#### Route Visualisation"
   ]
  },
  {
   "cell_type": "code",
   "execution_count": 17,
   "metadata": {},
   "outputs": [],
   "source": [
    "# ordered list of purple line station coordinates\n",
    "NEL_stations_gdf['coordinates'] = NEL_stations_gdf['geometry'].centroid\n",
    "NEL_stations_gdf\n",
    "\n",
    "# create a linestring for the route\n",
    "NEL_route = LineString(NEL_stations_gdf['coordinates'])\n",
    "\n",
    "# convert from LineString to geodataframe\n",
    "NEL_route_gdf = geopandas.GeoDataFrame(geometry = [NEL_route], crs = \"EPSG:3857\")\n",
    "NEL_route_gdf_4326 = NEL_route_gdf.to_crs(4326)\n",
    "\n",
    "# create base map\n",
    "NEL_map = folium.Map(location = (1.359394, 103.814301), zoom_start = 12)\n",
    "\n",
    "# add NEL route layer\n",
    "folium.GeoJson(\n",
    "    data = mapping(DTL_route_gdf_4326),\n",
    "    name = 'NEL',\n",
    "    style_function = lambda x: {\n",
    "        'color': 'purple',\n",
    "        'weight': 4\n",
    "    }\n",
    ").add_to(NEL_map)\n",
    "\n",
    "NEL_map"
   ]
  },
  {
   "cell_type": "code",
   "execution_count": null,
   "metadata": {},
   "outputs": [],
   "source": [
    "# calculate the overlapping distance of each bus route and the line\n",
    "buffer_distance = 150\n",
    "buffered_NEL = NEL_route.buffer(buffer_distance)\n",
    "\n",
    "overlap_distance_output_NEL = []\n",
    "\n",
    "for i, route in tqdm(bus_routes_combined.iterrows()):\n",
    "    overlap = buffered_NEL.intersection(route.geometry)\n",
    "    if overlap.is_empty:\n",
    "        overlap_distance_output_NEL.append({\n",
    "            'Bus Service': route['ServiceNo'],\n",
    "            'Direction': route['Direction'],\n",
    "            'Overlap Distance': 0,\n",
    "            'MRT line': 'North-East Line',\n",
    "            'Intersection': overlap\n",
    "            })\n",
    "    else:\n",
    "        overlap_distance_output_NEL.append({\n",
    "            'Bus Service': route['ServiceNo'],\n",
    "            'Direction': route['Direction'],\n",
    "            'Overlap Distance': overlap.length,\n",
    "            'MRT line': 'North-East Line',\n",
    "            'Intersection': overlap\n",
    "            })\n",
    "\n",
    "overlap_distance_NEL = pd.DataFrame(overlap_distance_output_NEL)\n",
    "overlap_distance_NEL\n",
    "\n",
    "# filter bus routes with overlap with NEL line\n",
    "bus_routes_overlap_NEL = overlap_distance_NEL[overlap_distance_NEL['Overlap Distance'] > 0].sort_values(by = 'Overlap Distance', ascending = False)\n",
    "bus_routes_overlap_NEL"
   ]
  },
  {
   "cell_type": "code",
   "execution_count": null,
   "metadata": {},
   "outputs": [],
   "source": [
    "bus_routes_overlap = pd.concat([bus_routes_overlap, bus_routes_overlap_NEL], axis = 0)\n",
    "bus_routes_overlap"
   ]
  },
  {
   "cell_type": "markdown",
   "metadata": {},
   "source": [
    "# North-South Line (Red)"
   ]
  },
  {
   "cell_type": "code",
   "execution_count": null,
   "metadata": {},
   "outputs": [],
   "source": [
    "red_line = mrt_stations_3857_2[mrt_stations_3857_2[\"line\"] == \"NS\"][\"STATION_NA\"].tolist()\n",
    "\n",
    "# filter red line stations from mrt stations geodataframe\n",
    "red_line_stations_gdf = mrt_stations_3857_2[mrt_stations_3857_2['line'] == \"NS\"]\n",
    "\n",
    "red_line_stations_gdf[\"order\"] = pd.to_numeric(red_line_stations_gdf[\"CODE\"].str.slice(2, None))\n",
    "\n",
    "# order red line stations based on list\n",
    "red_line_stations_gdf = red_line_stations_gdf.sort_values('order')\n",
    "red_line_stations_gdf"
   ]
  },
  {
   "cell_type": "code",
   "execution_count": null,
   "metadata": {},
   "outputs": [],
   "source": [
    "# ordered list of red line station coordinates\n",
    "red_line_stations_gdf['coordinates'] = red_line_stations_gdf['geometry_y'].centroid\n",
    "red_line_stations_gdf\n",
    "\n",
    "\n",
    "# create a linestring for the red line route\n",
    "from shapely.geometry import LineString\n",
    "red_line_route = LineString(red_line_stations_gdf['coordinates'])\n",
    "red_line_route"
   ]
  },
  {
   "cell_type": "code",
   "execution_count": null,
   "metadata": {},
   "outputs": [],
   "source": [
    "buffered_red_line = red_line_route.buffer(buffer_distance)\n",
    "\n",
    "overlap_distance_output_red = []\n",
    "\n",
    "for i, route in tqdm(bus_routes_combined.iterrows()):\n",
    "    overlap = buffered_red_line.intersection(route.geometry)\n",
    "    if overlap.is_empty:\n",
    "        overlap_distance_output_red.append({\n",
    "            'Bus Service': route['ServiceNo'],\n",
    "            'Direction': route['Direction'],\n",
    "            'Overlap Distance': 0,\n",
    "            'MRT line': 'North-South Line',\n",
    "            'Intersection': overlap\n",
    "            })\n",
    "    else:\n",
    "        overlap_distance_output_red.append({\n",
    "            'Bus Service': route['ServiceNo'],\n",
    "            'Direction': route['Direction'],\n",
    "            'Overlap Distance': overlap.length,\n",
    "            'MRT line': 'North-South Line',\n",
    "            'Intersection': overlap\n",
    "            })\n",
    "\n",
    "overlap_distance_red = pd.DataFrame(overlap_distance_output_red)\n",
    "overlap_distance_red"
   ]
  },
  {
   "cell_type": "code",
   "execution_count": null,
   "metadata": {},
   "outputs": [],
   "source": [
    "bus_routes_overlap_red = overlap_distance_red[overlap_distance_red['Overlap Distance'] > 0].sort_values(by = 'Overlap Distance', ascending = False)\n",
    "bus_routes_overlap_red"
   ]
  },
  {
   "cell_type": "code",
   "execution_count": null,
   "metadata": {},
   "outputs": [],
   "source": [
    "bus_routes_overlap = pd.concat([bus_routes_overlap, bus_routes_overlap_red], axis = 0)\n",
    "bus_routes_overlap"
   ]
  },
  {
   "cell_type": "markdown",
   "metadata": {},
   "source": [
    "# East-West Line (Green)"
   ]
  },
  {
   "cell_type": "code",
   "execution_count": null,
   "metadata": {},
   "outputs": [],
   "source": [
    "green_line = mrt_stations_3857_2[mrt_stations_3857_2[\"line\"] == \"EW\"][\"STATION_NA\"].tolist()\n",
    "green_line_stations_gdf = mrt_stations_3857_2[mrt_stations_3857_2['line'] == \"EW\"]\n",
    "\n",
    "green_line_stations_gdf[\"order\"] = pd.to_numeric(green_line_stations_gdf[\"CODE\"].str.slice(2, None))\n",
    "\n",
    "# order green line stations based on list\n",
    "green_line_stations_gdf = green_line_stations_gdf.sort_values('order')\n",
    "green_line_stations_gdf"
   ]
  },
  {
   "cell_type": "code",
   "execution_count": null,
   "metadata": {},
   "outputs": [],
   "source": [
    "green_line_stations_gdf = geopandas.GeoDataFrame(green_line_stations_gdf, geometry='geometry_y')\n",
    "\n",
    "green_line_stations_gdf['coordinates'] = green_line_stations_gdf['geometry_y'].centroid\n",
    "green_line_stations_gdf\n",
    "\n",
    "# create a linestring for the green line route\n",
    "from shapely.geometry import LineString\n",
    "green_line_route = LineString(green_line_stations_gdf['coordinates'])\n",
    "green_line_route"
   ]
  },
  {
   "cell_type": "code",
   "execution_count": null,
   "metadata": {},
   "outputs": [],
   "source": [
    "buffered_green_line = green_line_route.buffer(buffer_distance)\n",
    "\n",
    "overlap_distance_output_green = []\n",
    "\n",
    "for i, route in tqdm(bus_routes_combined.iterrows()):\n",
    "    overlap = buffered_green_line.intersection(route.geometry)\n",
    "    if overlap.is_empty:\n",
    "        overlap_distance_output_green.append({\n",
    "            'Bus Service': route['ServiceNo'],\n",
    "            'Direction': route['Direction'],\n",
    "            'Overlap Distance': 0,\n",
    "            'MRT line': 'East-West Line',\n",
    "            'Intersection': overlap\n",
    "            })\n",
    "    else:\n",
    "        overlap_distance_output_green.append({\n",
    "            'Bus Service': route['ServiceNo'],\n",
    "            'Direction': route['Direction'],\n",
    "            'Overlap Distance': overlap.length,\n",
    "            'MRT line': 'East-West Line',\n",
    "            'Intersection': overlap\n",
    "            })\n",
    "\n",
    "overlap_distance_green = pd.DataFrame(overlap_distance_output_green)\n",
    "overlap_distance_green"
   ]
  },
  {
   "cell_type": "code",
   "execution_count": null,
   "metadata": {},
   "outputs": [],
   "source": [
    "bus_routes_overlap_green = overlap_distance_green[overlap_distance_green['Overlap Distance'] > 0].sort_values(by = 'Overlap Distance', ascending = False)\n",
    "bus_routes_overlap_green"
   ]
  },
  {
   "cell_type": "code",
   "execution_count": null,
   "metadata": {},
   "outputs": [],
   "source": [
    "bus_routes_overlap = pd.concat([bus_routes_overlap, bus_routes_overlap_green], axis = 0)\n",
    "bus_routes_overlap"
   ]
  },
  {
   "cell_type": "markdown",
   "metadata": {},
   "source": [
    "# Circle Line (Yellow)"
   ]
  },
  {
   "cell_type": "code",
   "execution_count": 31,
   "metadata": {},
   "outputs": [],
   "source": [
    "circle_line = mrt_stations_3857_2[mrt_stations_3857_2[\"line\"] == \"CC\"][\"STATION_NA\"].tolist()"
   ]
  },
  {
   "cell_type": "code",
   "execution_count": null,
   "metadata": {},
   "outputs": [],
   "source": [
    "circle_line_stations_gdf = mrt_stations_3857_2[mrt_stations_3857_2['line'] == \"CC\"]\n",
    "\n",
    "circle_line_stations_gdf[\"order\"] = pd.to_numeric(green_line_stations_gdf[\"CODE\"].str.slice(2, None))\n",
    "\n",
    "# order circle stations based on list\n",
    "circle_line_stations_gdf = circle_line_stations_gdf.sort_values('order')\n",
    "circle_line_stations_gdf"
   ]
  },
  {
   "cell_type": "code",
   "execution_count": null,
   "metadata": {},
   "outputs": [],
   "source": [
    "circle_line_stations_gdf = geopandas.GeoDataFrame(circle_line_stations_gdf, geometry='geometry_y')\n",
    "\n",
    "circle_line_stations_gdf['coordinates'] = circle_line_stations_gdf['geometry_y'].centroid\n",
    "circle_line_stations_gdf\n",
    "\n",
    "# create a linestring for the circle line route\n",
    "from shapely.geometry import LineString\n",
    "circle_line_route = LineString(circle_line_stations_gdf['coordinates'])\n",
    "circle_line_route"
   ]
  },
  {
   "cell_type": "code",
   "execution_count": null,
   "metadata": {},
   "outputs": [],
   "source": [
    "buffered_circle_line = circle_line_route.buffer(buffer_distance)\n",
    "\n",
    "overlap_distance_output_circle = []\n",
    "\n",
    "for i, route in tqdm(bus_routes_combined.iterrows()):\n",
    "    overlap = buffered_circle_line.intersection(route.geometry)\n",
    "    if overlap.is_empty:\n",
    "        overlap_distance_output_circle.append({\n",
    "            'Bus Service': route['ServiceNo'],\n",
    "            'Direction': route['Direction'],\n",
    "            'Overlap Distance': 0,\n",
    "            'MRT line': 'Circle Line',\n",
    "            'Intersection': overlap\n",
    "            })\n",
    "    else:\n",
    "        overlap_distance_output_circle.append({\n",
    "            'Bus Service': route['ServiceNo'],\n",
    "            'Direction': route['Direction'],\n",
    "            'Overlap Distance': overlap.length,\n",
    "            'MRT line': 'Circle Line',\n",
    "            'Intersection': overlap\n",
    "            })\n",
    "\n",
    "overlap_distance_circle = pd.DataFrame(overlap_distance_output_circle)\n",
    "overlap_distance_circle"
   ]
  },
  {
   "cell_type": "code",
   "execution_count": null,
   "metadata": {},
   "outputs": [],
   "source": [
    "bus_routes_overlap_circle = overlap_distance_circle[overlap_distance_circle['Overlap Distance'] > 0].sort_values(by = 'Overlap Distance', ascending = False)\n",
    "bus_routes_overlap_circle"
   ]
  },
  {
   "cell_type": "code",
   "execution_count": null,
   "metadata": {},
   "outputs": [],
   "source": [
    "bus_routes_overlap = pd.concat([bus_routes_overlap, bus_routes_overlap_circle], axis = 0)\n",
    "bus_routes_overlap"
   ]
  },
  {
   "cell_type": "markdown",
   "metadata": {},
   "source": [
    "# Bus Stops in Overlap"
   ]
  },
  {
   "cell_type": "code",
   "execution_count": null,
   "metadata": {},
   "outputs": [],
   "source": [
    "# find the bus stops that belong to each intersection between the bus routes and the MRT lines\n",
    "bus_routes_overlap_gdf_3857 = geopandas.GeoDataFrame(bus_routes_overlap,\n",
    "                                                     geometry = bus_routes_overlap['Intersection'],\n",
    "                                                     crs = \"EPSG:3857\")\n",
    "\n",
    "overlap_count_output = []\n",
    "\n",
    "for i, row in tqdm(bus_routes_overlap_gdf_3857.iterrows()):\n",
    "    bus_no = row['Bus Service']\n",
    "    direction = row['Direction']\n",
    "    bus = bus_routes_gdf_3857[(bus_routes_gdf_3857['ServiceNo'] == bus_no) & (bus_routes_gdf_3857['Direction'] == direction)]\n",
    "    for j, stop in bus.iterrows():\n",
    "        if row['Intersection'].contains(stop.geometry):\n",
    "            overlap_count_output.append({\n",
    "                'Bus Service': bus_no,\n",
    "                'Direction': direction,\n",
    "                'Bus Stop Code': stop['BusStopCode'],\n",
    "                'Description': stop['Description'],\n",
    "                'MRT line': row['MRT line'],\n",
    "                'geometry': stop.geometry\n",
    "            })\n",
    "\n",
    "overlap_bus_stops = geopandas.GeoDataFrame(overlap_count_output, crs = \"EPSG:3857\")\n"
   ]
  },
  {
   "cell_type": "code",
   "execution_count": null,
   "metadata": {},
   "outputs": [],
   "source": [
    "overlap_bus_stops"
   ]
  },
  {
   "cell_type": "code",
   "execution_count": 39,
   "metadata": {},
   "outputs": [],
   "source": [
    "# get the number of bus stops in the intersection between each bus route mrt line\n",
    "overlap_count = overlap_bus_stops.groupby(['Bus Service', 'Direction', 'MRT line']).size().reset_index(name = 'Count').sort_values('Count', ascending = False)\n",
    "\n",
    "bus_routes_overlap = bus_routes_overlap.merge(overlap_count, on = ['Bus Service', 'Direction', 'MRT line'], how = 'outer')\n",
    "bus_routes_overlap = bus_routes_overlap[bus_routes_overlap['Count'].notna()]\n",
    "bus_routes_overlap['Count'] = bus_routes_overlap['Count'].astype(int)"
   ]
  },
  {
   "cell_type": "code",
   "execution_count": null,
   "metadata": {},
   "outputs": [],
   "source": [
    "bus_routes_overlap.sort_values(['Overlap Distance', 'Count'], ascending = False)"
   ]
  }
 ],
 "metadata": {
  "kernelspec": {
   "display_name": "Python 3",
   "language": "python",
   "name": "python3"
  },
  "language_info": {
   "codemirror_mode": {
    "name": "ipython",
    "version": 3
   },
   "file_extension": ".py",
   "mimetype": "text/x-python",
   "name": "python",
   "nbconvert_exporter": "python",
   "pygments_lexer": "ipython3",
   "version": "3.12.5"
  }
 },
 "nbformat": 4,
 "nbformat_minor": 4
}

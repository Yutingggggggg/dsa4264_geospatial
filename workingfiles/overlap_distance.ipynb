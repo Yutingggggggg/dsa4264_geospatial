{
 "cells": [
  {
   "cell_type": "code",
   "execution_count": null,
   "metadata": {},
   "outputs": [],
   "source": [
    "%run lta_datamall_data.ipynb"
   ]
  },
  {
   "cell_type": "code",
   "execution_count": null,
   "metadata": {},
   "outputs": [],
   "source": [
    "%run nearest_mrt_station_to_bus_stops.ipynb"
   ]
  },
  {
   "cell_type": "code",
   "execution_count": null,
   "metadata": {},
   "outputs": [],
   "source": [
    "# mrt stations geodataframe\n",
    "import os\n",
    "os.environ['OGR_GEOMETRY_ACCEPT_UNCLOSED_RING'] = 'NO'\n",
    "\n",
    "mrt_stations_gdf = geopandas.read_file('./TrainStation_Jul2024/RapidTransitSystemStation.shp')\n",
    "mrt_stations_gdf_3857 = mrt_stations_gdf.to_crs(3857)\n",
    "mrt_stations_gdf_3857"
   ]
  },
  {
   "cell_type": "code",
   "execution_count": null,
   "metadata": {},
   "outputs": [],
   "source": [
    "mrt_stations_gdf2 = geopandas.read_file('./mrt_stations/mrt_stations.shp')\n",
    "\n",
    "mrt_stations_gdf2[\"lat_lng\"] = geopandas.points_from_xy(mrt_stations_gdf2[\"LATITUDE\"], mrt_stations_gdf2[\"LONGITUDE\"])\n",
    "mrt_stations_gdf2[\"line\"] = mrt_stations_gdf2[\"CODE\"].str.slice(0, 2) \n",
    "\n",
    "mrt_lines_code = [\"NS\", \"EW\", \"CC\", \"NE\", \"TE\", \"DT\"]\n",
    "\n",
    "mrt_gdf_wo_lrt = mrt_stations_gdf2[mrt_stations_gdf2[\"line\"].isin(mrt_lines_code)].reset_index()\n",
    "mrt_gdf_wo_lrt = mrt_gdf_wo_lrt.drop(\"index\", axis = 1)\n",
    "\n",
    "mrt_gdf_wo_lrt[\"STN_NAM_DE\"] = mrt_gdf_wo_lrt[\"BUILDING\"].str.split('(').str[0].str.strip()\n",
    "mrt_stations_3857_2 = mrt_gdf_wo_lrt.merge(mrt_stations_gdf_3857, how = \"left\", on = \"STN_NAM_DE\")\n",
    "\n",
    "mrt_stations_3857_2"
   ]
  },
  {
   "cell_type": "markdown",
   "metadata": {},
   "source": [
    "# Brown Line"
   ]
  },
  {
   "cell_type": "code",
   "execution_count": null,
   "metadata": {},
   "outputs": [],
   "source": [
    "brown_line = ['WOODLANDS NORTH MRT STATION', 'WOODLANDS MRT STATION', 'WOODLANDS SOUTH MRT STATION',\n",
    "              'SPRINGLEAF MRT STATION', 'LENTOR MRT STATION', 'MAYFLOWER MRT STATION',\n",
    "              'BRIGHT HILL MRT STATION', 'UPPER THOMSON MRT STATION', 'CALDECOTT MRT STATION',\n",
    "              'STEVENS MRT STATION', 'NAPIER MRT STATION', 'ORCHARD BOULEVARD MRT STATION',\n",
    "              'ORCHARD MRT STATION', 'GREAT WORLD MRT STATION', 'HAVELOCK MRT STATION',\n",
    "              'OUTRAM PARK MRT STATION', 'MAXWELL MRT STATION', 'SHENTON WAY MRT STATION',\n",
    "              'MARINA BAY MRT STATION', 'GARDENS BY THE BAY MRT STATION', 'TANJONG RHU MRT STATION',\n",
    "              'KATONG PARK MRT STATION', 'TANJONG KATONG MRT STATION', 'MARINE PARADE MRT STATION',\n",
    "              'MARINE TERRACE MRT STATION', 'SIGLAP MRT STATION', 'BAYSHORE MRT STATION',\n",
    "              'BEDOK SOUTH MRT STATION', 'SUNGEI BEDOK MRT STATION']\n",
    "\n",
    "# filter brown line stations from mrt stations geodataframe\n",
    "brown_line_stations_gdf = mrt_stations_gdf_3857[mrt_stations_gdf_3857['STN_NAM_DE'].isin(brown_line)]\n",
    "\n",
    "# order brown line stations based on list\n",
    "brown_line_stations_gdf['STN_NAM_DE'] = pd.Categorical(brown_line_stations_gdf['STN_NAM_DE'],\n",
    "                                                       categories = brown_line,\n",
    "                                                       ordered = True)\n",
    "brown_line_stations_gdf = brown_line_stations_gdf.sort_values('STN_NAM_DE')\n",
    "brown_line_stations_gdf\n"
   ]
  },
  {
   "cell_type": "code",
   "execution_count": 7,
   "metadata": {},
   "outputs": [],
   "source": [
    "# ordered list of brown line station coordinates\n",
    "brown_line_stations_gdf['coordinates'] = brown_line_stations_gdf['geometry'].centroid\n",
    "brown_line_stations_gdf\n",
    "\n",
    "# create a linestring for the brown line route\n",
    "from shapely.geometry import LineString\n",
    "brown_line_route = LineString(brown_line_stations_gdf['coordinates'])"
   ]
  },
  {
   "cell_type": "code",
   "execution_count": null,
   "metadata": {},
   "outputs": [],
   "source": [
    "from shapely.geometry import LineString\n",
    "\n",
    "# combine bus routes\n",
    "bus_routes_combined = bus_routes_gdf_3857.groupby(['ServiceNo', 'Direction']).apply(lambda x: LineString(x.geometry.tolist())).reset_index()\n",
    "bus_routes_combined.columns = ['ServiceNo', 'Direction', 'geometry']\n",
    "bus_routes_combined"
   ]
  },
  {
   "cell_type": "code",
   "execution_count": null,
   "metadata": {},
   "outputs": [],
   "source": [
    "# calculate the overlapping distance of each bus route and the brown line\n",
    "buffer_distance = 150\n",
    "buffered_brown_line = brown_line_route.buffer(buffer_distance)\n",
    "\n",
    "overlap_distance_output = []\n",
    "\n",
    "for i, route in tqdm(bus_routes_combined.iterrows()):\n",
    "    overlap = buffered_brown_line.intersection(route.geometry)\n",
    "    if overlap.is_empty:\n",
    "        overlap_distance_output.append({\n",
    "            'Bus Service': route['ServiceNo'],\n",
    "            'Direction': route['Direction'],\n",
    "            'Overlap Distance': 0,\n",
    "            'MRT line': 'Thomson-East Coast Line'\n",
    "            })\n",
    "    else:\n",
    "        overlap_distance_output.append({\n",
    "            'Bus Service': route['ServiceNo'],\n",
    "            'Direction': route['Direction'],\n",
    "            'Overlap Distance': overlap.length,\n",
    "            'MRT line': 'Thomson-East Coast Line'\n",
    "            })\n",
    "\n",
    "overlap_distance = pd.DataFrame(overlap_distance_output)\n",
    "overlap_distance"
   ]
  },
  {
   "cell_type": "code",
   "execution_count": null,
   "metadata": {},
   "outputs": [],
   "source": [
    "# filter bus routes with overlap\n",
    "bus_routes_overlap = overlap_distance[overlap_distance['Overlap Distance'] > 0].sort_values(by = 'Overlap Distance', ascending = False)\n",
    "bus_routes_overlap"
   ]
  },
  {
   "cell_type": "markdown",
   "metadata": {},
   "source": [
    "# Blue Line"
   ]
  },
  {
   "cell_type": "code",
   "execution_count": null,
   "metadata": {},
   "outputs": [],
   "source": [
    "blue_line = [\n",
    "    'SUNGEI KADUT MRT STATION', 'BUKIT PANJANG MRT STATION', 'CASHEW MRT STATION', 'HILLVIEW MRT STATION', 'HUME MRT STATION', 'BEAUTY WORLD MRT STATION', 'KING ALBERT PARK MRT STATION', \n",
    "    'SIXTH AVENUE MRT STATION', 'TAN KAH KEE MRT STATION', 'BOTANIC GARDENS MRT STATION', 'STEVENS MRT STATION', 'NEWTON MRT STATION', \n",
    "    'LITTLE INDIA MRT STATION', 'ROCHOR MRT STATION', 'BUGIS MRT STATION', 'PROMENADE MRT STATION', 'BAYFRONT MRT STATION', 'DOWNTOWN MRT STATION', 'TELOK AYER MRT STATION', \n",
    "    'CHINATOWN MRT STATION', 'FORT CANNING MRT STATION', 'BENCOOLEN MRT STATION', 'JALAN BESAR MRT STATION', 'BENDEMEER MRT STATION', \n",
    "    'GEYLANG BAHRU MRT STATION', 'MATTAR MRT STATION', 'MACPHERSON MRT STATION', 'UBI MRT STATION', 'KAKI BUKIT MRT STATION', 'BEDOK NORTH MRT STATION', \n",
    "    'BEDOK RESERVOIR MRT STATION', 'TAMPINES WEST MRT STATION', 'TAMPINES MRT STATION', 'TAMPINES EAST MRT STATION', 'UPPER CHANGI MRT STATION', 'EXPO MRT STATION'\n",
    "]\n",
    "\n",
    "# filter brown line stations from mrt stations geodataframe\n",
    "blue_line_stations_gdf = mrt_stations_gdf_3857[mrt_stations_gdf_3857['STN_NAM_DE'].isin(blue_line)]\n",
    "\n",
    "# order brown line stations based on list\n",
    "blue_line_stations_gdf['STN_NAM_DE'] = pd.Categorical(blue_line_stations_gdf['STN_NAM_DE'],\n",
    "                                                       categories = blue_line,\n",
    "                                                       ordered = True)\n",
    "blue_line_stations_gdf = blue_line_stations_gdf.sort_values('STN_NAM_DE')\n",
    "blue_line_stations_gdf\n",
    "\n"
   ]
  },
  {
   "cell_type": "code",
   "execution_count": 12,
   "metadata": {},
   "outputs": [],
   "source": [
    "# ordered list of blue line station coordinates\n",
    "blue_line_stations_gdf['coordinates'] = blue_line_stations_gdf['geometry'].centroid\n",
    "blue_line_stations_gdf\n",
    "\n",
    "# create a linestring for the blue line route\n",
    "from shapely.geometry import LineString\n",
    "blue_line_route = LineString(blue_line_stations_gdf['coordinates'])"
   ]
  },
  {
   "cell_type": "code",
   "execution_count": null,
   "metadata": {},
   "outputs": [],
   "source": [
    "from shapely.geometry import LineString\n",
    "\n",
    "# combine bus routes\n",
    "bus_routes_combined = bus_routes_gdf_3857.groupby(['ServiceNo', 'Direction']).apply(lambda x: LineString(x.geometry.tolist())).reset_index()\n",
    "bus_routes_combined.columns = ['ServiceNo', 'Direction', 'geometry']\n",
    "bus_routes_combined"
   ]
  },
  {
   "cell_type": "code",
   "execution_count": null,
   "metadata": {},
   "outputs": [],
   "source": [
    "# calculate the overlapping distance of each bus route and the blue line\n",
    "buffer_distance = 150\n",
    "buffered_blue_line = blue_line_route.buffer(buffer_distance)\n",
    "\n",
    "overlap_distance_output = []\n",
    "\n",
    "for i, route in tqdm(bus_routes_combined.iterrows()):\n",
    "    overlap = buffered_blue_line.intersection(route.geometry)\n",
    "    if overlap.is_empty:\n",
    "        overlap_distance_output.append({\n",
    "            'Bus Service': route['ServiceNo'],\n",
    "            'Direction': route['Direction'],\n",
    "            'Overlap Distance': 0,\n",
    "            'MRT line': 'Downtown Line'\n",
    "            })\n",
    "    else:\n",
    "        overlap_distance_output.append({\n",
    "            'Bus Service': route['ServiceNo'],\n",
    "            'Direction': route['Direction'],\n",
    "            'Overlap Distance': overlap.length,\n",
    "            'MRT line': 'Downtown Line'\n",
    "            })\n",
    "\n",
    "overlap_distance_blue = pd.DataFrame(overlap_distance_output)\n",
    "overlap_distance_blue"
   ]
  },
  {
   "cell_type": "code",
   "execution_count": null,
   "metadata": {},
   "outputs": [],
   "source": [
    "# filter bus routes with overlap with blue line\n",
    "bus_routes_overlap_blue = overlap_distance_blue[overlap_distance_blue['Overlap Distance'] > 0].sort_values(by = 'Overlap Distance', ascending = False)\n",
    "bus_routes_overlap_blue"
   ]
  },
  {
   "cell_type": "code",
   "execution_count": 16,
   "metadata": {},
   "outputs": [],
   "source": [
    "bus_routes_overlap = pd.concat([bus_routes_overlap, bus_routes_overlap_blue], axis = 0)"
   ]
  },
  {
   "cell_type": "markdown",
   "metadata": {},
   "source": [
    "# Purple Line"
   ]
  },
  {
   "cell_type": "code",
   "execution_count": null,
   "metadata": {},
   "outputs": [],
   "source": [
    "purple_line = [\n",
    "    'HARBOURFRONT MRT STATION',\n",
    "    'OUTRAM PARK MRT STATION',\n",
    "    'CHINATOWN MRT STATION',\n",
    "    'CLARKE QUAY MRT STATION',\n",
    "    'DHOBY GHAUT MRT STATION',\n",
    "    'LITTLE INDIA MRT STATION',\n",
    "    'FARRER PARK MRT STATION',\n",
    "    'BOON KENG MRT STATION',\n",
    "    'POTONG PASIR MRT STATION',\n",
    "    'WOODLEIGH MRT STATION',\n",
    "    'SERANGOON MRT STATION',\n",
    "    'KOVAN MRT STATION',\n",
    "    'HOUGANG MRT STATION',\n",
    "    'BUANGKOK MRT STATION',\n",
    "    'SENGKANG MRT STATION',\n",
    "    'PUNGGOL MRT STATION'\n",
    "]\n",
    "\n",
    "\n",
    "# filter purple line stations from mrt stations geodataframe\n",
    "purple_line_stations_gdf = mrt_stations_gdf_3857[mrt_stations_gdf_3857['STN_NAM_DE'].isin(purple_line)]\n",
    "\n",
    "# order purple line stations based on list\n",
    "purple_line_stations_gdf['STN_NAM_DE'] = pd.Categorical(purple_line_stations_gdf['STN_NAM_DE'],\n",
    "                                                       categories = purple_line,\n",
    "                                                       ordered = True)\n",
    "purple_line_stations_gdf = purple_line_stations_gdf.sort_values('STN_NAM_DE')\n",
    "purple_line_stations_gdf"
   ]
  },
  {
   "cell_type": "code",
   "execution_count": 18,
   "metadata": {},
   "outputs": [],
   "source": [
    "# ordered list of purple line station coordinates\n",
    "purple_line_stations_gdf['coordinates'] = purple_line_stations_gdf['geometry'].centroid\n",
    "purple_line_stations_gdf\n",
    "\n",
    "# create a linestring for the purple line route\n",
    "from shapely.geometry import LineString\n",
    "purple_line_route = LineString(purple_line_stations_gdf['coordinates'])"
   ]
  },
  {
   "cell_type": "code",
   "execution_count": null,
   "metadata": {},
   "outputs": [],
   "source": [
    "from shapely.geometry import LineString\n",
    "\n",
    "# combine bus routes\n",
    "bus_routes_combined = bus_routes_gdf_3857.groupby(['ServiceNo', 'Direction']).apply(lambda x: LineString(x.geometry.tolist())).reset_index()\n",
    "bus_routes_combined.columns = ['ServiceNo', 'Direction', 'geometry']\n",
    "bus_routes_combined"
   ]
  },
  {
   "cell_type": "code",
   "execution_count": null,
   "metadata": {},
   "outputs": [],
   "source": [
    "# calculate the overlapping distance of each bus route and the purple line\n",
    "buffer_distance = 150\n",
    "buffered_purple_line = purple_line_route.buffer(buffer_distance)\n",
    "\n",
    "overlap_distance_output = []\n",
    "\n",
    "for i, route in tqdm(bus_routes_combined.iterrows()):\n",
    "    overlap = buffered_purple_line.intersection(route.geometry)\n",
    "    if overlap.is_empty:\n",
    "        overlap_distance_output.append({\n",
    "            'Bus Service': route['ServiceNo'],\n",
    "            'Direction': route['Direction'],\n",
    "            'Overlap Distance': 0,\n",
    "            'MRT line': 'North-East Line'\n",
    "            })\n",
    "    else:\n",
    "        overlap_distance_output.append({\n",
    "            'Bus Service': route['ServiceNo'],\n",
    "            'Direction': route['Direction'],\n",
    "            'Overlap Distance': overlap.length,\n",
    "            'MRT line': 'North-East Line'\n",
    "            })\n",
    "\n",
    "overlap_distance_purple = pd.DataFrame(overlap_distance_output)\n",
    "overlap_distance_purple"
   ]
  },
  {
   "cell_type": "code",
   "execution_count": null,
   "metadata": {},
   "outputs": [],
   "source": [
    "# filter bus routes with overlap with purple line\n",
    "bus_routes_overlap_purple = overlap_distance_purple[overlap_distance_purple['Overlap Distance'] > 0].sort_values(by = 'Overlap Distance', ascending = False)\n",
    "bus_routes_overlap_purple"
   ]
  },
  {
   "cell_type": "code",
   "execution_count": 22,
   "metadata": {},
   "outputs": [],
   "source": [
    "bus_routes_overlap = pd.concat([bus_routes_overlap, bus_routes_overlap_purple], axis = 0)"
   ]
  },
  {
   "cell_type": "markdown",
   "metadata": {},
   "source": [
    "# Red Line"
   ]
  },
  {
   "cell_type": "code",
   "execution_count": null,
   "metadata": {},
   "outputs": [],
   "source": [
    "red_line = mrt_stations_3857_2[mrt_stations_3857_2[\"line\"] == \"NS\"][\"STATION_NA\"].tolist()\n",
    "\n",
    "# filter brown line stations from mrt stations geodataframe\n",
    "red_line_stations_gdf = mrt_stations_3857_2[mrt_stations_3857_2['line'] == \"NS\"]\n",
    "\n",
    "red_line_stations_gdf[\"order\"] = pd.to_numeric(red_line_stations_gdf[\"CODE\"].str.slice(2, None))\n",
    "\n",
    "# order brown line stations based on list\n",
    "red_line_stations_gdf = red_line_stations_gdf.sort_values('order')\n",
    "red_line_stations_gdf"
   ]
  },
  {
   "cell_type": "code",
   "execution_count": null,
   "metadata": {},
   "outputs": [],
   "source": [
    "# ordered list of brown line station coordinates\n",
    "red_line_stations_gdf['coordinates'] = red_line_stations_gdf['geometry_y'].centroid\n",
    "red_line_stations_gdf\n",
    "\n",
    "\n",
    "# create a linestring for the brown line route\n",
    "from shapely.geometry import LineString\n",
    "red_line_route = LineString(red_line_stations_gdf['coordinates'])\n",
    "red_line_route"
   ]
  },
  {
   "cell_type": "code",
   "execution_count": null,
   "metadata": {},
   "outputs": [],
   "source": [
    "buffered_red_line = red_line_route.buffer(buffer_distance)\n",
    "\n",
    "overlap_distance_output_red = []\n",
    "\n",
    "for i, route in tqdm(bus_routes_combined.iterrows()):\n",
    "    overlap = buffered_red_line.intersection(route.geometry)\n",
    "    if overlap.is_empty:\n",
    "        overlap_distance_output_red.append({\n",
    "            'Bus Service': route['ServiceNo'],\n",
    "            'Direction': route['Direction'],\n",
    "            'Overlap Distance': 0,\n",
    "            'MRT line': 'North-South Line'\n",
    "            })\n",
    "    else:\n",
    "        overlap_distance_output_red.append({\n",
    "            'Bus Service': route['ServiceNo'],\n",
    "            'Direction': route['Direction'],\n",
    "            'Overlap Distance': overlap.length,\n",
    "            'MRT line': 'North-South Line'\n",
    "            })\n",
    "\n",
    "overlap_distance_red = pd.DataFrame(overlap_distance_output_red)\n",
    "overlap_distance_red"
   ]
  },
  {
   "cell_type": "code",
   "execution_count": null,
   "metadata": {},
   "outputs": [],
   "source": [
    "bus_routes_overlap_red = overlap_distance_red[overlap_distance_red['Overlap Distance'] > 0].sort_values(by = 'Overlap Distance', ascending = False)\n",
    "bus_routes_overlap_red"
   ]
  },
  {
   "cell_type": "code",
   "execution_count": 27,
   "metadata": {},
   "outputs": [],
   "source": [
    "bus_routes_overlap = pd.concat([bus_routes_overlap, bus_routes_overlap_red], axis = 0)"
   ]
  },
  {
   "cell_type": "code",
   "execution_count": null,
   "metadata": {},
   "outputs": [],
   "source": [
    "bus_routes_overlap"
   ]
  },
  {
   "cell_type": "markdown",
   "metadata": {},
   "source": [
    "# Green line"
   ]
  },
  {
   "cell_type": "code",
   "execution_count": null,
   "metadata": {},
   "outputs": [],
   "source": [
    "green_line = mrt_stations_3857_2[mrt_stations_3857_2[\"line\"] == \"EW\"][\"STATION_NA\"].tolist()\n",
    "green_line_stations_gdf = mrt_stations_3857_2[mrt_stations_3857_2['line'] == \"EW\"]\n",
    "\n",
    "green_line_stations_gdf[\"order\"] = pd.to_numeric(green_line_stations_gdf[\"CODE\"].str.slice(2, None))\n",
    "\n",
    "# order brown line stations based on list\n",
    "green_line_stations_gdf = green_line_stations_gdf.sort_values('order')\n",
    "green_line_stations_gdf"
   ]
  },
  {
   "cell_type": "code",
   "execution_count": null,
   "metadata": {},
   "outputs": [],
   "source": [
    "green_line_stations_gdf = geopandas.GeoDataFrame(green_line_stations_gdf, geometry='geometry_y')\n",
    "\n",
    "green_line_stations_gdf['coordinates'] = green_line_stations_gdf['geometry_y'].centroid\n",
    "green_line_stations_gdf\n",
    "\n",
    "# create a linestring for the green line route\n",
    "from shapely.geometry import LineString\n",
    "green_line_route = LineString(green_line_stations_gdf['coordinates'])\n",
    "green_line_route"
   ]
  },
  {
   "cell_type": "code",
   "execution_count": null,
   "metadata": {},
   "outputs": [],
   "source": [
    "buffered_green_line = green_line_route.buffer(buffer_distance)\n",
    "\n",
    "overlap_distance_output_green = []\n",
    "\n",
    "for i, route in tqdm(bus_routes_combined.iterrows()):\n",
    "    overlap = buffered_green_line.intersection(route.geometry)\n",
    "    if overlap.is_empty:\n",
    "        overlap_distance_output_green.append({\n",
    "            'Bus Service': route['ServiceNo'],\n",
    "            'Direction': route['Direction'],\n",
    "            'Overlap Distance': 0,\n",
    "            'MRT line': 'East-West Line'\n",
    "            })\n",
    "    else:\n",
    "        overlap_distance_output_green.append({\n",
    "            'Bus Service': route['ServiceNo'],\n",
    "            'Direction': route['Direction'],\n",
    "            'Overlap Distance': overlap.length,\n",
    "            'MRT line': 'East-West Line'\n",
    "            })\n",
    "\n",
    "overlap_distance_green = pd.DataFrame(overlap_distance_output_green)\n",
    "overlap_distance_green"
   ]
  },
  {
   "cell_type": "code",
   "execution_count": null,
   "metadata": {},
   "outputs": [],
   "source": [
    "bus_routes_overlap_green = overlap_distance_green[overlap_distance_green['Overlap Distance'] > 0].sort_values(by = 'Overlap Distance', ascending = False)\n",
    "bus_routes_overlap_green"
   ]
  },
  {
   "cell_type": "markdown",
   "metadata": {},
   "source": [
    "# Circle Line"
   ]
  },
  {
   "cell_type": "code",
   "execution_count": null,
   "metadata": {},
   "outputs": [],
   "source": [
    "circle_line = mrt_stations_3857_2[mrt_stations_3857_2[\"line\"] == \"CC\"][\"STATION_NA\"].tolist()"
   ]
  },
  {
   "cell_type": "code",
   "execution_count": null,
   "metadata": {},
   "outputs": [],
   "source": [
    "circle_line_stations_gdf = mrt_stations_3857_2[mrt_stations_3857_2['line'] == \"CC\"]\n",
    "\n",
    "circle_line_stations_gdf[\"order\"] = pd.to_numeric(green_line_stations_gdf[\"CODE\"].str.slice(2, None))\n",
    "\n",
    "# order  stations based on list\n",
    "circle_line_stations_gdf = circle_line_stations_gdf.sort_values('order')\n",
    "circle_line_stations_gdf"
   ]
  },
  {
   "cell_type": "code",
   "execution_count": null,
   "metadata": {},
   "outputs": [],
   "source": [
    "circle_line_stations_gdf = geopandas.GeoDataFrame(circle_line_stations_gdf, geometry='geometry_y')\n",
    "\n",
    "circle_line_stations_gdf['coordinates'] = circle_line_stations_gdf['geometry_y'].centroid\n",
    "circle_line_stations_gdf\n",
    "\n",
    "# create a linestring for the green line route\n",
    "from shapely.geometry import LineString\n",
    "circle_line_route = LineString(circle_line_stations_gdf['coordinates'])\n",
    "circle_line_route"
   ]
  },
  {
   "cell_type": "code",
   "execution_count": null,
   "metadata": {},
   "outputs": [],
   "source": [
    "buffered_circle_line = circle_line_route.buffer(buffer_distance)\n",
    "\n",
    "overlap_distance_output_circle = []\n",
    "\n",
    "for i, route in tqdm(bus_routes_combined.iterrows()):\n",
    "    overlap = buffered_circle_line.intersection(route.geometry)\n",
    "    if overlap.is_empty:\n",
    "        overlap_distance_output_circle.append({\n",
    "            'Bus Service': route['ServiceNo'],\n",
    "            'Direction': route['Direction'],\n",
    "            'Overlap Distance': 0,\n",
    "            'MRT line': 'Circle Line'\n",
    "            })\n",
    "    else:\n",
    "        overlap_distance_output_circle.append({\n",
    "            'Bus Service': route['ServiceNo'],\n",
    "            'Direction': route['Direction'],\n",
    "            'Overlap Distance': overlap.length,\n",
    "            'MRT line': 'Circle Line'\n",
    "            })\n",
    "\n",
    "overlap_distance_circle = pd.DataFrame(overlap_distance_output_circle)\n",
    "overlap_distance_circle"
   ]
  },
  {
   "cell_type": "code",
   "execution_count": null,
   "metadata": {},
   "outputs": [],
   "source": [
    "bus_routes_overlap_circle = overlap_distance_circle[overlap_distance_circle['Overlap Distance'] > 0].sort_values(by = 'Overlap Distance', ascending = False)\n",
    "bus_routes_overlap_circle"
   ]
  }
 ],
 "metadata": {
  "kernelspec": {
   "display_name": "base",
   "language": "python",
   "name": "python3"
  },
  "language_info": {
   "codemirror_mode": {
    "name": "ipython",
    "version": 3
   },
   "file_extension": ".py",
   "mimetype": "text/x-python",
   "name": "python",
   "nbconvert_exporter": "python",
   "pygments_lexer": "ipython3",
   "version": "3.11.5"
  }
 },
 "nbformat": 4,
 "nbformat_minor": 4
}

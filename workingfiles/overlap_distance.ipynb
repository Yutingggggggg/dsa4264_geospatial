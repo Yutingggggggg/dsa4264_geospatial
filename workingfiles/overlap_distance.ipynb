{
 "cells": [
  {
   "cell_type": "markdown",
   "metadata": {},
   "source": [
    "# Calculating nearest mrt station to bus stop"
   ]
  },
  {
   "cell_type": "code",
   "execution_count": null,
   "metadata": {},
   "outputs": [],
   "source": [
    "%run lta_datamall_data.ipynb"
   ]
  },
  {
   "cell_type": "code",
   "execution_count": null,
   "metadata": {},
   "outputs": [],
   "source": [
    "# bus stops geodataframe\n",
    "bus_stops_gdf = geopandas.GeoDataFrame(bus_stops, \n",
    "                                       geometry = geopandas.points_from_xy(bus_stops.Longitude, bus_stops.Latitude),\n",
    "                                       crs = \"EPSG:4326\")\n",
    "bus_stops_gdf"
   ]
  },
  {
   "cell_type": "code",
   "execution_count": null,
   "metadata": {},
   "outputs": [],
   "source": [
    "# bus routes geodataframe\n",
    "bus_routes_gdf = geopandas.GeoDataFrame(bus_route_names, \n",
    "                                       geometry = geopandas.points_from_xy(bus_route_names.Longitude, bus_route_names.Latitude),\n",
    "                                       crs = \"EPSG:4326\")\n",
    "bus_routes_gdf"
   ]
  },
  {
   "cell_type": "code",
   "execution_count": null,
   "metadata": {},
   "outputs": [],
   "source": [
    "\n",
    "# train station exits geodataframe\n",
    "train_station_exits_gdf = geopandas.read_file(\"./TrainStationExit/Train_Station_Exit_Layer.shp\")\n",
    "train_station_exits_gdf"
   ]
  },
  {
   "cell_type": "code",
   "execution_count": null,
   "metadata": {},
   "outputs": [],
   "source": [
    "bus_routes_gdf_3857 = bus_routes_gdf.to_crs(3857)\n",
    "train_station_exits_gdf_3857 = train_station_exits_gdf.to_crs(3857)\n",
    "\n",
    "nearest_train_station_output = []\n",
    "for i, row in tqdm(bus_routes_gdf_3857.iterrows()):\n",
    "\n",
    "    # Compute the distance from each bus stop to all train station exits\n",
    "    distances = train_station_exits_gdf_3857.distance(row['geometry'])\n",
    "\n",
    "    nearest_train_station_output.append({\n",
    "        'Bus Service': row['ServiceNo'],\n",
    "        'Route Direction': row['Direction'],\n",
    "        'Bus Stop Code': row['BusStopCode'],\n",
    "        'Description': row['Description'],\n",
    "        'Nearest Train Station': train_station_exits_gdf_3857.loc[int(distances.argmin()), 'stn_name'],\n",
    "        'Distance': float(distances.min())\n",
    "    })\n",
    "\n",
    "nearest_train_stations = pd.DataFrame(nearest_train_station_output)\n",
    "nearest_train_stations"
   ]
  },
  {
   "cell_type": "code",
   "execution_count": null,
   "metadata": {},
   "outputs": [],
   "source": [
    "bus_stops_with_mrt = nearest_train_stations[nearest_train_stations['Distance'] < 150]\n",
    "number_of_mrt = bus_stops_with_mrt.groupby(['Bus Service', 'Route Direction']).size().reset_index(name = 'Count')\n",
    "number_of_mrt.sort_values('Count', ascending = False)"
   ]
  },
  {
   "cell_type": "markdown",
   "metadata": {},
   "source": [
    "## Bus Routes Data"
   ]
  },
  {
   "cell_type": "code",
   "execution_count": null,
   "metadata": {},
   "outputs": [],
   "source": [
    "from shapely.geometry import LineString\n",
    "\n",
    "# combine bus routes\n",
    "bus_routes_combined = bus_routes_gdf_3857.groupby(['ServiceNo', 'Direction']).apply(lambda x: LineString(x.geometry.tolist())).reset_index()\n",
    "bus_routes_combined.columns = ['ServiceNo', 'Direction', 'geometry']\n",
    "bus_routes_combined"
   ]
  },
  {
   "cell_type": "markdown",
   "metadata": {},
   "source": [
    "## MRT Stations Data"
   ]
  },
  {
   "cell_type": "code",
   "execution_count": null,
   "metadata": {},
   "outputs": [],
   "source": [
    "# mrt stations geodataframe\n",
    "import os\n",
    "os.environ['OGR_GEOMETRY_ACCEPT_UNCLOSED_RING'] = 'NO'\n",
    "\n",
    "mrt_stations_gdf = geopandas.read_file('./TrainStation_Jul2024/RapidTransitSystemStation.shp')\n",
    "mrt_stations_gdf_3857 = mrt_stations_gdf.to_crs(3857)\n",
    "mrt_stations_gdf_3857"
   ]
  },
  {
   "cell_type": "code",
   "execution_count": null,
   "metadata": {},
   "outputs": [],
   "source": [
    "mrt_stations_gdf2 = geopandas.read_file('./mrt_stations/mrt_stations.shp')\n",
    "\n",
    "mrt_stations_gdf2[\"lat_lng\"] = geopandas.points_from_xy(mrt_stations_gdf2[\"LATITUDE\"], mrt_stations_gdf2[\"LONGITUDE\"])\n",
    "mrt_stations_gdf2[\"line\"] = mrt_stations_gdf2[\"CODE\"].str.slice(0, 2) \n",
    "\n",
    "mrt_lines_code = [\"NS\", \"EW\", \"CC\", \"NE\", \"TE\", \"DT\", \"CG\"]\n",
    "\n",
    "mrt_gdf_wo_lrt = mrt_stations_gdf2[mrt_stations_gdf2[\"line\"].isin(mrt_lines_code)].reset_index()\n",
    "mrt_gdf_wo_lrt = mrt_gdf_wo_lrt.drop(\"index\", axis = 1)\n",
    "\n",
    "mrt_gdf_wo_lrt[\"STN_NAM_DE\"] = mrt_gdf_wo_lrt[\"BUILDING\"].str.split('(').str[0].str.strip()\n",
    "\n",
    "mrt_gdf_wo_lrt2 = mrt_gdf_wo_lrt[[\"CODE\", \"STATION_NA\", \"STN_NAM_DE\", \"LINE\", \"line\", \"COLOR\", \"geometry\"]]\n",
    "\n",
    "mrt_gdf_wo_lrt2[\"Order\"] = pd.to_numeric(mrt_gdf_wo_lrt2[\"CODE\"].str.slice(2, None))"
   ]
  },
  {
   "cell_type": "code",
   "execution_count": null,
   "metadata": {},
   "outputs": [],
   "source": [
    "new_brown_line = ['TANJONG RHU MRT STATION','KATONG PARK MRT STATION', 'TANJONG KATONG MRT STATION', \n",
    "                  'MARINE PARADE MRT STATION', 'MARINE TERRACE MRT STATION', 'SIGLAP MRT STATION', 'BAYSHORE MRT STATION']"
   ]
  },
  {
   "cell_type": "code",
   "execution_count": null,
   "metadata": {},
   "outputs": [],
   "source": [
    "n = len(new_brown_line)\n",
    "add_tel_stations = []\n",
    "for i in range(n):\n",
    "    no = i + 23\n",
    "    station_name = new_brown_line[i]\n",
    "    add_tel_stations.append({\n",
    "        \"CODE\": \"TE\" + str(no),\n",
    "        \"STATION_NA\": station_name,\n",
    "        \"STN_NAM_DE\": station_name,\n",
    "        \"LINE\": \"Thomson-East Coast Line\",\n",
    "        \"line\": \"TE\",\n",
    "        \"COLOR\": \"Brown\",\n",
    "        \"Order\": no\n",
    "    })\n",
    "\n",
    "new_tel_stations = pd.DataFrame(add_tel_stations)\n",
    "\n",
    "mrt_gdf_wo_lrt2 = pd.concat([mrt_gdf_wo_lrt2, new_tel_stations], axis = 0)\n",
    "mrt_gdf_wo_lrt2"
   ]
  },
  {
   "cell_type": "code",
   "execution_count": null,
   "metadata": {},
   "outputs": [],
   "source": [
    "mrt_stations_3857_2 = mrt_gdf_wo_lrt2.merge(mrt_stations_gdf_3857, how = \"left\", on = \"STN_NAM_DE\")\n",
    "\n",
    "mrt_stations_3857_2"
   ]
  },
  {
   "cell_type": "markdown",
   "metadata": {},
   "source": [
    "### Thomson-East Coast Line"
   ]
  },
  {
   "cell_type": "code",
   "execution_count": null,
   "metadata": {},
   "outputs": [],
   "source": [
    "\n",
    "\n",
    "TEL = mrt_stations_3857_2[mrt_stations_3857_2[\"line\"] == \"TE\"][\"STATION_NA\"].tolist()\n",
    "\n",
    "# filter stations from mrt stations geodataframe\n",
    "TEL_stations_gdf = mrt_stations_3857_2[mrt_stations_3857_2['line'] == \"TE\"]\n",
    "\n",
    "TEL_stations_gdf[\"order\"] = pd.to_numeric(TEL_stations_gdf[\"CODE\"].str.slice(2, None))\n",
    "\n",
    "# order stations based on list\n",
    "TEL_stations_gdf = TEL_stations_gdf.sort_values('order')\n",
    "TEL_stations_gdf\n",
    "\n",
    "\n"
   ]
  },
  {
   "cell_type": "markdown",
   "metadata": {},
   "source": [
    "#### Route Visualisation"
   ]
  },
  {
   "cell_type": "code",
   "execution_count": null,
   "metadata": {},
   "outputs": [],
   "source": [
    "import folium\n",
    "import geopandas\n",
    "from shapely.geometry import mapping\n",
    "from shapely.geometry import LineString\n",
    "\n",
    "# ordered list of station coordinates\n",
    "TEL_stations_gdf['coordinates'] = TEL_stations_gdf['geometry_y'].apply(lambda geom: geom.centroid)\n",
    "TEL_stations_gdf\n",
    "\n",
    "# create a linestring for the  route\n",
    "TEL_route = LineString(TEL_stations_gdf['coordinates'])\n",
    "\n",
    "# convert from LineString to geodataframe\n",
    "TEL_route_gdf = geopandas.GeoDataFrame(geometry = [TEL_route], crs = \"EPSG:3857\")\n",
    "TEL_route_gdf_4326 = TEL_route_gdf.to_crs(4326)\n",
    "\n",
    "# create base map\n",
    "TEL_map = folium.Map(location = (1.359394, 103.814301), zoom_start = 12)\n",
    "\n",
    "# add TEL route layer\n",
    "folium.GeoJson(\n",
    "    data = mapping(TEL_route_gdf_4326),\n",
    "    name = 'TEL',\n",
    "    style_function = lambda x: {\n",
    "        'color': '#9D5B25',\n",
    "        'weight': 4\n",
    "    }\n",
    ").add_to(TEL_map)\n",
    "\n",
    "TEL_map\n"
   ]
  },
  {
   "cell_type": "code",
   "execution_count": null,
   "metadata": {},
   "outputs": [],
   "source": [
    "# calculate the overlapping distance of each bus route and the TEL\n",
    "buffer_distance = 150\n",
    "buffered_TEL = TEL_route.buffer(buffer_distance)\n",
    "\n",
    "overlap_distance_output_TEL = []\n",
    "\n",
    "for i, route in tqdm(bus_routes_combined.iterrows()):\n",
    "    overlap = buffered_TEL.intersection(route.geometry)\n",
    "    if overlap.is_empty:\n",
    "        overlap_distance_output_TEL.append({\n",
    "            'Bus Service': route['ServiceNo'],\n",
    "            'Direction': route['Direction'],\n",
    "            'Overlap Distance': 0,\n",
    "            'MRT line': 'Thomson-East Coast Line',\n",
    "            'Intersection': overlap\n",
    "            })\n",
    "    else:\n",
    "        overlap_distance_output_TEL.append({\n",
    "            'Bus Service': route['ServiceNo'],\n",
    "            'Direction': route['Direction'],\n",
    "            'Overlap Distance': overlap.length,\n",
    "            'MRT line': 'Thomson-East Coast Line',\n",
    "            'Intersection': overlap\n",
    "            })\n",
    "\n",
    "overlap_distance_TEL = geopandas.GeoDataFrame(overlap_distance_output_TEL)\n",
    "\n",
    "# filter bus routes with overlap\n",
    "bus_routes_overlap_TEL = overlap_distance_TEL[overlap_distance_TEL['Overlap Distance'] > 0].sort_values(by = 'Overlap Distance', ascending = False)\n",
    "bus_routes_overlap_TEL"
   ]
  },
  {
   "cell_type": "code",
   "execution_count": null,
   "metadata": {},
   "outputs": [],
   "source": [
    "bus_routes_overlap = bus_routes_overlap_TEL\n",
    "bus_routes_overlap"
   ]
  },
  {
   "cell_type": "markdown",
   "metadata": {},
   "source": [
    "### Downtown Line "
   ]
  },
  {
   "cell_type": "code",
   "execution_count": null,
   "metadata": {},
   "outputs": [],
   "source": [
    "DTL = mrt_stations_3857_2[mrt_stations_3857_2[\"line\"] == \"DT\"][\"STATION_NA\"].tolist()\n",
    "\n",
    "# filter stations from mrt stations geodataframe\n",
    "DTL_stations_gdf = mrt_stations_3857_2[mrt_stations_3857_2['line'] == \"DT\"]\n",
    "\n",
    "DTL_stations_gdf[\"order\"] = pd.to_numeric(DTL_stations_gdf[\"CODE\"].str.slice(2, None))\n",
    "\n",
    "# order stations based on list\n",
    "DTL_stations_gdf = DTL_stations_gdf.sort_values('order')\n",
    "DTL_stations_gdf\n"
   ]
  },
  {
   "cell_type": "markdown",
   "metadata": {},
   "source": [
    "#### Route Visualisation"
   ]
  },
  {
   "cell_type": "code",
   "execution_count": null,
   "metadata": {},
   "outputs": [],
   "source": [
    "# ordered list of  station coordinates\n",
    "DTL_stations_gdf['coordinates'] = DTL_stations_gdf['geometry_y'].apply(lambda geom: geom.centroid)\n",
    "DTL_stations_gdf\n",
    "\n",
    "# create a linestring for the route\n",
    "DTL_route = LineString(DTL_stations_gdf['coordinates'])\n",
    "\n",
    "# convert from LineString to geodataframe\n",
    "DTL_route_gdf = geopandas.GeoDataFrame(geometry = [DTL_route], crs = \"EPSG:3857\")\n",
    "DTL_route_gdf_4326 = DTL_route_gdf.to_crs(4326)\n",
    "\n",
    "# create base map\n",
    "DTL_map = folium.Map(location = (1.359394, 103.814301), zoom_start = 12)\n",
    "\n",
    "# add DTL route layer\n",
    "folium.GeoJson(\n",
    "    data = mapping(DTL_route_gdf_4326),\n",
    "    name = 'DTL',\n",
    "    style_function = lambda x: {\n",
    "        'color': '#005ec4',\n",
    "        'weight': 4\n",
    "    }\n",
    ").add_to(DTL_map)\n",
    "\n",
    "DTL_map\n"
   ]
  },
  {
   "cell_type": "code",
   "execution_count": null,
   "metadata": {},
   "outputs": [],
   "source": [
    "# calculate the overlapping distance of each bus route and the blue line\n",
    "buffered_DTL = DTL_route.buffer(buffer_distance)\n",
    "\n",
    "overlap_distance_output_DTL = []\n",
    "\n",
    "for i, route in tqdm(bus_routes_combined.iterrows()):\n",
    "    overlap = buffered_DTL.intersection(route.geometry)\n",
    "    if overlap.is_empty:\n",
    "        overlap_distance_output_DTL.append({\n",
    "            'Bus Service': route['ServiceNo'],\n",
    "            'Direction': route['Direction'],\n",
    "            'Overlap Distance': 0,\n",
    "            'MRT line': 'Downtown Line',\n",
    "            'Intersection': overlap\n",
    "            })\n",
    "    else:\n",
    "        overlap_distance_output_DTL.append({\n",
    "            'Bus Service': route['ServiceNo'],\n",
    "            'Direction': route['Direction'],\n",
    "            'Overlap Distance': overlap.length,\n",
    "            'MRT line': 'Downtown Line',\n",
    "            'Intersection': overlap\n",
    "            })\n",
    "\n",
    "overlap_distance_DTL = pd.DataFrame(overlap_distance_output_DTL)\n",
    "overlap_distance_DTL\n",
    "\n",
    "# filter bus routes with overlap with DTL\n",
    "bus_routes_overlap_DTL = overlap_distance_DTL[overlap_distance_DTL['Overlap Distance'] > 0].sort_values(by = 'Overlap Distance', ascending = False)\n",
    "bus_routes_overlap_DTL"
   ]
  },
  {
   "cell_type": "code",
   "execution_count": null,
   "metadata": {},
   "outputs": [],
   "source": [
    "bus_routes_overlap = pd.concat([bus_routes_overlap, bus_routes_overlap_DTL], axis = 0)\n",
    "bus_routes_overlap"
   ]
  },
  {
   "cell_type": "markdown",
   "metadata": {},
   "source": [
    "### North-East Line "
   ]
  },
  {
   "cell_type": "code",
   "execution_count": null,
   "metadata": {},
   "outputs": [],
   "source": [
    "NEL = mrt_stations_3857_2[mrt_stations_3857_2[\"line\"] == \"NE\"][\"STATION_NA\"].tolist()\n",
    "\n",
    "# filter stations from mrt stations geodataframe\n",
    "NEL_stations_gdf = mrt_stations_3857_2[mrt_stations_3857_2['line'] == \"NE\"]\n",
    "\n",
    "NEL_stations_gdf[\"order\"] = pd.to_numeric(NEL_stations_gdf[\"CODE\"].str.slice(2, None))\n",
    "\n",
    "# order stations based on list\n",
    "NEL_stations_gdf = NEL_stations_gdf.sort_values('order')\n",
    "NEL_stations_gdf"
   ]
  },
  {
   "cell_type": "markdown",
   "metadata": {},
   "source": [
    "#### Route Visualisation"
   ]
  },
  {
   "cell_type": "code",
   "execution_count": null,
   "metadata": {},
   "outputs": [],
   "source": [
    "# ordered list of purple line station coordinates\n",
    "NEL_stations_gdf['coordinates'] = NEL_stations_gdf['geometry_y'].apply(lambda geom: geom.centroid)\n",
    "NEL_stations_gdf\n",
    "\n",
    "# create a linestring for the route\n",
    "NEL_route = LineString(NEL_stations_gdf['coordinates'])\n",
    "\n",
    "# convert from LineString to geodataframe\n",
    "NEL_route_gdf = geopandas.GeoDataFrame(geometry = [NEL_route], crs = \"EPSG:3857\")\n",
    "NEL_route_gdf_4326 = NEL_route_gdf.to_crs(4326)\n",
    "\n",
    "# create base map\n",
    "NEL_map = folium.Map(location = (1.359394, 103.814301), zoom_start = 12)\n",
    "\n",
    "# add NEL route layer\n",
    "folium.GeoJson(\n",
    "    data = mapping(NEL_route_gdf_4326),\n",
    "    name = 'NEL',\n",
    "    style_function = lambda x: {\n",
    "        'color': '#9900aa',\n",
    "        'weight': 4\n",
    "    }\n",
    ").add_to(NEL_map)\n",
    "\n",
    "NEL_map"
   ]
  },
  {
   "cell_type": "code",
   "execution_count": null,
   "metadata": {},
   "outputs": [],
   "source": [
    "# calculate the overlapping distance of each bus route and the line\n",
    "buffered_NEL = NEL_route.buffer(buffer_distance)\n",
    "\n",
    "overlap_distance_output_NEL = []\n",
    "\n",
    "for i, route in tqdm(bus_routes_combined.iterrows()):\n",
    "    overlap = buffered_NEL.intersection(route.geometry)\n",
    "    if overlap.is_empty:\n",
    "        overlap_distance_output_NEL.append({\n",
    "            'Bus Service': route['ServiceNo'],\n",
    "            'Direction': route['Direction'],\n",
    "            'Overlap Distance': 0,\n",
    "            'MRT line': 'North-East Line',\n",
    "            'Intersection': overlap\n",
    "            })\n",
    "    else:\n",
    "        overlap_distance_output_NEL.append({\n",
    "            'Bus Service': route['ServiceNo'],\n",
    "            'Direction': route['Direction'],\n",
    "            'Overlap Distance': overlap.length,\n",
    "            'MRT line': 'North-East Line',\n",
    "            'Intersection': overlap\n",
    "            })\n",
    "\n",
    "overlap_distance_NEL = pd.DataFrame(overlap_distance_output_NEL)\n",
    "overlap_distance_NEL\n",
    "\n",
    "# filter bus routes with overlap with NEL line\n",
    "bus_routes_overlap_NEL = overlap_distance_NEL[overlap_distance_NEL['Overlap Distance'] > 0].sort_values(by = 'Overlap Distance', ascending = False)\n",
    "bus_routes_overlap_NEL"
   ]
  },
  {
   "cell_type": "code",
   "execution_count": null,
   "metadata": {},
   "outputs": [],
   "source": [
    "bus_routes_overlap = pd.concat([bus_routes_overlap, bus_routes_overlap_NEL], axis = 0)\n",
    "bus_routes_overlap"
   ]
  },
  {
   "cell_type": "markdown",
   "metadata": {},
   "source": [
    "### North-South Line "
   ]
  },
  {
   "cell_type": "code",
   "execution_count": null,
   "metadata": {},
   "outputs": [],
   "source": [
    "NSL = mrt_stations_3857_2[mrt_stations_3857_2[\"line\"] == \"NS\"][\"STATION_NA\"].tolist()\n",
    "\n",
    "# filter red line stations from mrt stations geodataframe\n",
    "NSL_stations_gdf = mrt_stations_3857_2[mrt_stations_3857_2['line'] == \"NS\"]\n",
    "\n",
    "NSL_stations_gdf[\"order\"] = pd.to_numeric(NSL_stations_gdf[\"CODE\"].str.slice(2, None))\n",
    "\n",
    "# order red line stations based on list\n",
    "NSL_stations_gdf = NSL_stations_gdf.sort_values('order')\n",
    "NSL_stations_gdf"
   ]
  },
  {
   "cell_type": "markdown",
   "metadata": {},
   "source": [
    "#### Route Visualisation"
   ]
  },
  {
   "cell_type": "code",
   "execution_count": null,
   "metadata": {},
   "outputs": [],
   "source": [
    "# ordered list of red line station coordinates\n",
    "NSL_stations_gdf['coordinates'] = NSL_stations_gdf['geometry_y'].apply(lambda geom: geom.centroid)\n",
    "NSL_stations_gdf\n",
    "\n",
    "\n",
    "# create a linestring for the red line route\n",
    "NSL_route = LineString(NSL_stations_gdf['coordinates'])\n",
    "NSL_route\n",
    "\n",
    "# convert from LineString to geodataframe\n",
    "NSL_route_gdf = geopandas.GeoDataFrame(geometry = [NSL_route], crs = \"EPSG:3857\")\n",
    "NSL_route_gdf_4326 = NSL_route_gdf.to_crs(4326)\n",
    "\n",
    "# create base map\n",
    "NSL_map = folium.Map(location = (1.359394, 103.814301), zoom_start = 12)\n",
    "\n",
    "# add NSL route layer\n",
    "folium.GeoJson(\n",
    "    data = mapping(NSL_route_gdf_4326),\n",
    "    name = 'NEL',\n",
    "    style_function = lambda x: {\n",
    "        'color': '#d42e12',\n",
    "        'weight': 4\n",
    "    }\n",
    ").add_to(NSL_map)\n",
    "\n",
    "NSL_map"
   ]
  },
  {
   "cell_type": "code",
   "execution_count": null,
   "metadata": {},
   "outputs": [],
   "source": [
    "buffered_NSL = NSL_route.buffer(buffer_distance)\n",
    "\n",
    "overlap_distance_output_NSL = []\n",
    "\n",
    "for i, route in tqdm(bus_routes_combined.iterrows()):\n",
    "    overlap = buffered_NSL.intersection(route.geometry)\n",
    "    if overlap.is_empty:\n",
    "        overlap_distance_output_NSL.append({\n",
    "            'Bus Service': route['ServiceNo'],\n",
    "            'Direction': route['Direction'],\n",
    "            'Overlap Distance': 0,\n",
    "            'MRT line': 'North-South Line',\n",
    "            'Intersection': overlap\n",
    "            })\n",
    "    else:\n",
    "        overlap_distance_output_NSL.append({\n",
    "            'Bus Service': route['ServiceNo'],\n",
    "            'Direction': route['Direction'],\n",
    "            'Overlap Distance': overlap.length,\n",
    "            'MRT line': 'North-South Line',\n",
    "            'Intersection': overlap\n",
    "            })\n",
    "\n",
    "overlap_distance_NSL = pd.DataFrame(overlap_distance_output_NSL)\n",
    "overlap_distance_NSL\n",
    "\n",
    "bus_routes_overlap_NSL = overlap_distance_NSL[overlap_distance_NSL['Overlap Distance'] > 0].sort_values(by = 'Overlap Distance', ascending = False)\n",
    "bus_routes_overlap_NSL"
   ]
  },
  {
   "cell_type": "code",
   "execution_count": null,
   "metadata": {},
   "outputs": [],
   "source": [
    "bus_routes_overlap = pd.concat([bus_routes_overlap, bus_routes_overlap_NSL], axis = 0)\n",
    "bus_routes_overlap"
   ]
  },
  {
   "cell_type": "markdown",
   "metadata": {},
   "source": [
    "### East-West Line "
   ]
  },
  {
   "cell_type": "code",
   "execution_count": null,
   "metadata": {},
   "outputs": [],
   "source": [
    "EWL = mrt_stations_3857_2[mrt_stations_3857_2[\"line\"] == \"EW\"][\"STATION_NA\"].tolist()\n",
    "EWL_stations_gdf = mrt_stations_3857_2[mrt_stations_3857_2['line'] == \"EW\"]\n",
    "\n",
    "EWL_stations_gdf[\"order\"] = pd.to_numeric(EWL_stations_gdf[\"CODE\"].str.slice(2, None))\n",
    "\n",
    "# order stations based on list\n",
    "EWL_stations_gdf = EWL_stations_gdf.sort_values('order')\n",
    "EWL_stations_gdf"
   ]
  },
  {
   "cell_type": "markdown",
   "metadata": {},
   "source": [
    "#### Route Visualisation"
   ]
  },
  {
   "cell_type": "code",
   "execution_count": null,
   "metadata": {},
   "outputs": [],
   "source": [
    "EWL_stations_gdf = geopandas.GeoDataFrame(EWL_stations_gdf, geometry='geometry_y')\n",
    "\n",
    "EWL_stations_gdf['coordinates'] = EWL_stations_gdf['geometry_y'].apply(lambda geom: geom.centroid)\n",
    "EWL_stations_gdf\n",
    "\n",
    "# create a linestring for the route\n",
    "EWL_route = LineString(EWL_stations_gdf['coordinates'])\n",
    "EWL_route\n",
    "\n",
    "# convert from LineString to geodataframe\n",
    "EWL_route_gdf = geopandas.GeoDataFrame(geometry = [EWL_route], crs = \"EPSG:3857\")\n",
    "EWL_route_gdf_4326 = EWL_route_gdf.to_crs(4326)\n",
    "\n",
    "# create base map\n",
    "EWL_map = folium.Map(location = (1.359394, 103.814301), zoom_start = 12)\n",
    "\n",
    "# add EWL route layer\n",
    "folium.GeoJson(\n",
    "    data = mapping(EWL_route_gdf_4326),\n",
    "    name = 'NEL',\n",
    "    style_function = lambda x: {\n",
    "        'color': '#009645',\n",
    "        'weight': 4\n",
    "    }\n",
    ").add_to(EWL_map)\n",
    "\n",
    "EWL_map"
   ]
  },
  {
   "cell_type": "code",
   "execution_count": null,
   "metadata": {},
   "outputs": [],
   "source": [
    "buffered_EWL = EWL_route.buffer(buffer_distance)\n",
    "\n",
    "overlap_distance_output_EWL = []\n",
    "\n",
    "for i, route in tqdm(bus_routes_combined.iterrows()):\n",
    "    overlap = buffered_EWL.intersection(route.geometry)\n",
    "    if overlap.is_empty:\n",
    "        overlap_distance_output_EWL.append({\n",
    "            'Bus Service': route['ServiceNo'],\n",
    "            'Direction': route['Direction'],\n",
    "            'Overlap Distance': 0,\n",
    "            'MRT line': 'East-West Line',\n",
    "            'Intersection': overlap\n",
    "            })\n",
    "    else:\n",
    "        overlap_distance_output_EWL.append({\n",
    "            'Bus Service': route['ServiceNo'],\n",
    "            'Direction': route['Direction'],\n",
    "            'Overlap Distance': overlap.length,\n",
    "            'MRT line': 'East-West Line',\n",
    "            'Intersection': overlap\n",
    "            })\n",
    "\n",
    "overlap_distance_EWL = pd.DataFrame(overlap_distance_output_EWL)\n",
    "overlap_distance_EWL\n",
    "\n",
    "bus_routes_overlap_EWL = overlap_distance_EWL[overlap_distance_EWL['Overlap Distance'] > 0].sort_values(by = 'Overlap Distance', ascending = False)\n",
    "bus_routes_overlap_EWL"
   ]
  },
  {
   "cell_type": "code",
   "execution_count": null,
   "metadata": {},
   "outputs": [],
   "source": [
    "bus_routes_overlap = pd.concat([bus_routes_overlap, bus_routes_overlap_EWL], axis = 0)\n",
    "bus_routes_overlap"
   ]
  },
  {
   "cell_type": "markdown",
   "metadata": {},
   "source": [
    "### Circle Line"
   ]
  },
  {
   "cell_type": "code",
   "execution_count": null,
   "metadata": {},
   "outputs": [],
   "source": [
    "CCL = mrt_stations_3857_2[mrt_stations_3857_2[\"line\"] == \"CC\"][\"STATION_NA\"].tolist()\n",
    "\n",
    "CCL_stations_gdf = mrt_stations_3857_2[mrt_stations_3857_2['line'] == \"CC\"]\n",
    "\n",
    "CCL_stations_gdf[\"order\"] = pd.to_numeric(CCL_stations_gdf[\"CODE\"].str.slice(2, None))\n",
    "\n",
    "# order circle stations based on list\n",
    "CCL_stations_gdf = CCL_stations_gdf.sort_values('order')\n",
    "CCL_stations_gdf"
   ]
  },
  {
   "cell_type": "markdown",
   "metadata": {},
   "source": [
    "#### Route Visualisation"
   ]
  },
  {
   "cell_type": "code",
   "execution_count": null,
   "metadata": {},
   "outputs": [],
   "source": [
    "CCL_stations_gdf = geopandas.GeoDataFrame(CCL_stations_gdf, geometry='geometry_y')\n",
    "\n",
    "CCL_stations_gdf['coordinates'] =CCL_stations_gdf['geometry_y'].apply(lambda geom: geom.centroid)\n",
    "CCL_stations_gdf\n",
    "\n",
    "# create a linestring for the circle line route\n",
    "CCL_route = LineString(CCL_stations_gdf['coordinates'])\n",
    "CCL_route\n",
    "\n",
    "# convert from LineString to geodataframe\n",
    "CCL_route_gdf = geopandas.GeoDataFrame(geometry = [CCL_route], crs = \"EPSG:3857\")\n",
    "CCL_route_gdf_4326 = CCL_route_gdf.to_crs(4326)\n",
    "\n",
    "# create base map\n",
    "CCL_map = folium.Map(location = (1.359394, 103.814301), zoom_start = 12)\n",
    "\n",
    "# add CCL route layer\n",
    "folium.GeoJson(\n",
    "    data = mapping(CCL_route_gdf_4326),\n",
    "    name = 'CCL',\n",
    "    style_function = lambda x: {\n",
    "        'color': '#fa9e0d',\n",
    "        'weight': 4\n",
    "    }\n",
    ").add_to(CCL_map)\n",
    "\n",
    "CCL_map"
   ]
  },
  {
   "cell_type": "code",
   "execution_count": null,
   "metadata": {},
   "outputs": [],
   "source": [
    "buffered_CCL = CCL_route.buffer(buffer_distance)\n",
    "\n",
    "overlap_distance_output_CCL = []\n",
    "\n",
    "for i, route in tqdm(bus_routes_combined.iterrows()):\n",
    "    overlap = buffered_CCL.intersection(route.geometry)\n",
    "    if overlap.is_empty:\n",
    "        overlap_distance_output_CCL.append({\n",
    "            'Bus Service': route['ServiceNo'],\n",
    "            'Direction': route['Direction'],\n",
    "            'Overlap Distance': 0,\n",
    "            'MRT line': 'Circle Line',\n",
    "            'Intersection': overlap\n",
    "            })\n",
    "    else:\n",
    "        overlap_distance_output_CCL.append({\n",
    "            'Bus Service': route['ServiceNo'],\n",
    "            'Direction': route['Direction'],\n",
    "            'Overlap Distance': overlap.length,\n",
    "            'MRT line': 'Circle Line',\n",
    "            'Intersection': overlap\n",
    "            })\n",
    "\n",
    "overlap_distance_CCL = pd.DataFrame(overlap_distance_output_CCL)\n",
    "overlap_distance_CCL\n",
    "\n",
    "bus_routes_overlap_CCL = overlap_distance_CCL[overlap_distance_CCL['Overlap Distance'] > 0].sort_values(by = 'Overlap Distance', ascending = False)\n",
    "bus_routes_overlap_CCL"
   ]
  },
  {
   "cell_type": "code",
   "execution_count": null,
   "metadata": {},
   "outputs": [],
   "source": [
    "bus_routes_overlap = pd.concat([bus_routes_overlap, bus_routes_overlap_CCL], axis = 0)\n",
    "bus_routes_overlap"
   ]
  },
  {
   "cell_type": "markdown",
   "metadata": {},
   "source": [
    "# Bus Stops in Overlap"
   ]
  },
  {
   "cell_type": "code",
   "execution_count": null,
   "metadata": {},
   "outputs": [],
   "source": [
    "# find the bus stops that belong to each intersection between the bus routes and the MRT lines\n",
    "bus_routes_overlap_gdf_3857 = geopandas.GeoDataFrame(bus_routes_overlap,\n",
    "                                                     geometry = bus_routes_overlap['Intersection'],\n",
    "                                                     crs = \"EPSG:3857\")\n",
    "\n",
    "overlap_count_output = []\n",
    "\n",
    "for i, row in tqdm(bus_routes_overlap_gdf_3857.iterrows()):\n",
    "    bus_no = row['Bus Service']\n",
    "    direction = row['Direction']\n",
    "    bus = bus_routes_gdf_3857[(bus_routes_gdf_3857['ServiceNo'] == bus_no) & (bus_routes_gdf_3857['Direction'] == direction)]\n",
    "    for j, stop in bus.iterrows():\n",
    "        if row['Intersection'].contains(stop.geometry):\n",
    "            overlap_count_output.append({\n",
    "                'Bus Service': bus_no,\n",
    "                'Direction': direction,\n",
    "                'Bus Stop Code': stop['BusStopCode'],\n",
    "                'Description': stop['Description'],\n",
    "                'MRT line': row['MRT line'],\n",
    "                'geometry': stop.geometry\n",
    "            })\n",
    "\n",
    "overlap_bus_stops = geopandas.GeoDataFrame(overlap_count_output, crs = \"EPSG:3857\")\n"
   ]
  },
  {
   "cell_type": "code",
   "execution_count": null,
   "metadata": {},
   "outputs": [],
   "source": [
    "# get the number of bus stops in the intersection between each bus route mrt line\n",
    "overlap_count = overlap_bus_stops.groupby(['Bus Service', 'Direction', 'MRT line']).size().reset_index(name = 'Count').sort_values('Count', ascending = False)\n",
    "\n",
    "bus_routes_overlap = bus_routes_overlap.merge(overlap_count, on = ['Bus Service', 'Direction', 'MRT line'], how = 'outer')\n",
    "bus_routes_overlap = bus_routes_overlap[bus_routes_overlap['Count'].notna()]\n",
    "bus_routes_overlap['Count'] = bus_routes_overlap['Count'].astype(int)"
   ]
  },
  {
   "cell_type": "code",
   "execution_count": null,
   "metadata": {},
   "outputs": [],
   "source": [
    "# top 10 routes with significant overlap\n",
    "bus_routes_overlap.sort_values(['Overlap Distance'], ascending = False).head(10)"
   ]
  }
 ],
 "metadata": {
  "kernelspec": {
   "display_name": "base",
   "language": "python",
   "name": "python3"
  },
  "language_info": {
   "codemirror_mode": {
    "name": "ipython",
    "version": 3
   },
   "file_extension": ".py",
   "mimetype": "text/x-python",
   "name": "python",
   "nbconvert_exporter": "python",
   "pygments_lexer": "ipython3",
   "version": "3.11.5"
  }
 },
 "nbformat": 4,
 "nbformat_minor": 4
}

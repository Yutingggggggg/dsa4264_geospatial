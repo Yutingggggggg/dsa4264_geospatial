{
 "cells": [
  {
   "cell_type": "code",
   "execution_count": null,
   "metadata": {},
   "outputs": [],
   "source": [
    "import geopandas\n",
    "import re\n",
    "import pandas as pd\n",
    "import folium\n",
    "import requests\n",
    "import time\n",
    "from tqdm import tqdm\n",
    "import matplotlib.pyplot as plt\n",
    "import os\n",
    "pd.options.mode.chained_assignment = None"
   ]
  },
  {
   "cell_type": "code",
   "execution_count": null,
   "metadata": {},
   "outputs": [],
   "source": [
    "# API Call Function\n",
    "def call_api(url):\n",
    "    lta_api_key = os.getenv(\"LTA_API_KEY\")\n",
    "    if not lta_api_key:\n",
    "        raise ValueError(\"API key not found. Please set the LTA_API_KEY environment variable.\")\n",
    "\n",
    "    # Define endpoint to call\n",
    "    endpoint = url\n",
    "\n",
    "    # Define the headers, including the API key\n",
    "    headers = {\n",
    "        'accept': 'application/json',\n",
    "        'AccountKey': lta_api_key\n",
    "    }\n",
    "\n",
    "    # Initialise the output list to hold the results\n",
    "    output = []\n",
    "\n",
    "    # Loop through the pages to get all the results\n",
    "    while (len(output) % 500) == 0:\n",
    "        # Set the params to skip to the correct page\n",
    "        params = {\"$skip\": len(output)}\n",
    "\n",
    "        # Make the GET request\n",
    "        req = requests.get(endpoint, headers=headers, params=params)\n",
    "\n",
    "        if req.status_code != 200:\n",
    "            raise Exception(f\"Error fetching data: {req.text}\")\n",
    "\n",
    "        # Extend the output list to include the results\n",
    "        output.extend(req.json()['value'])\n",
    "\n",
    "    return pd.DataFrame(output)"
   ]
  },
  {
   "cell_type": "code",
   "execution_count": null,
   "metadata": {},
   "outputs": [],
   "source": [
    "# Bus Services\n",
    "\n",
    "bus_services = call_api(\"https://datamall2.mytransport.sg/ltaodataservice/BusServices\")\n",
    "bus_services"
   ]
  },
  {
   "cell_type": "code",
   "execution_count": null,
   "metadata": {},
   "outputs": [],
   "source": [
    "# Bus Services\n",
    "\n",
    "bus_services = call_api(\"https://datamall2.mytransport.sg/ltaodataservice/BusServices\")\n",
    "bus_services"
   ]
  },
  {
   "cell_type": "code",
   "execution_count": null,
   "metadata": {},
   "outputs": [],
   "source": [
    "# Bus Routes\n",
    "\n",
    "bus_routes = call_api(\"https://datamall2.mytransport.sg/ltaodataservice/BusRoutes\")\n",
    "bus_routes"
   ]
  },
  {
   "cell_type": "code",
   "execution_count": null,
   "metadata": {},
   "outputs": [],
   "source": [
    "# Bus Stops\n",
    "\n",
    "bus_stops = call_api(\"https://datamall2.mytransport.sg/ltaodataservice/BusStops\")\n",
    "bus_stops"
   ]
  },
  {
   "cell_type": "code",
   "execution_count": null,
   "metadata": {},
   "outputs": [],
   "source": [
    "# Bus Routes with Bus Stop Descriptions\n",
    "\n",
    "bus_route_names = pd.merge(bus_routes, bus_stops, on = 'BusStopCode', how = 'left')\n",
    "bus_route_names"
   ]
  },
  {
   "cell_type": "code",
   "execution_count": null,
   "metadata": {},
   "outputs": [],
   "source": [
    "# Bus Stop Codes & Coordinates\n",
    "\n",
    "bus_stops_coordinates = bus_stops[['BusStopCode', 'Latitude', 'Longitude']]\n",
    "bus_stops_coordinates['BusStopCode'] = bus_stops_coordinates['BusStopCode'].astype(int)\n",
    "\n",
    "bus_stops_coordinates"
   ]
  }
 ],
 "metadata": {
  "kernelspec": {
   "display_name": "base",
   "language": "python",
   "name": "python3"
  },
  "language_info": {
   "codemirror_mode": {
    "name": "ipython",
    "version": 3
   },
   "file_extension": ".py",
   "mimetype": "text/x-python",
   "name": "python",
   "nbconvert_exporter": "python",
   "pygments_lexer": "ipython3",
   "version": "3.11.5"
  }
 },
 "nbformat": 4,
 "nbformat_minor": 2
}
